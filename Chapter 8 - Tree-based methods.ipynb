{
 "cells": [
  {
   "cell_type": "code",
   "execution_count": 1,
   "id": "b8e0f49a",
   "metadata": {},
   "outputs": [],
   "source": [
    "import numpy as np\n",
    "import matplotlib.pyplot as plt\n",
    "import pandas as pd\n",
    "import my_statistics as ms\n",
    "import seaborn as sns\n",
    "from sklearn import tree"
   ]
  },
  {
   "cell_type": "code",
   "execution_count": 2,
   "id": "9495af8f",
   "metadata": {},
   "outputs": [],
   "source": [
    "hitters = pd.read_csv('Gradivo/Hitters.csv')"
   ]
  },
  {
   "cell_type": "code",
   "execution_count": 3,
   "id": "1502e788",
   "metadata": {},
   "outputs": [
    {
     "data": {
      "text/html": [
       "<div>\n",
       "<style scoped>\n",
       "    .dataframe tbody tr th:only-of-type {\n",
       "        vertical-align: middle;\n",
       "    }\n",
       "\n",
       "    .dataframe tbody tr th {\n",
       "        vertical-align: top;\n",
       "    }\n",
       "\n",
       "    .dataframe thead th {\n",
       "        text-align: right;\n",
       "    }\n",
       "</style>\n",
       "<table border=\"1\" class=\"dataframe\">\n",
       "  <thead>\n",
       "    <tr style=\"text-align: right;\">\n",
       "      <th></th>\n",
       "      <th>AtBat</th>\n",
       "      <th>Hits</th>\n",
       "      <th>HmRun</th>\n",
       "      <th>Runs</th>\n",
       "      <th>RBI</th>\n",
       "      <th>Walks</th>\n",
       "      <th>Years</th>\n",
       "      <th>CAtBat</th>\n",
       "      <th>CHits</th>\n",
       "      <th>CHmRun</th>\n",
       "      <th>CRuns</th>\n",
       "      <th>CRBI</th>\n",
       "      <th>CWalks</th>\n",
       "      <th>League</th>\n",
       "      <th>Division</th>\n",
       "      <th>PutOuts</th>\n",
       "      <th>Assists</th>\n",
       "      <th>Errors</th>\n",
       "      <th>Salary</th>\n",
       "      <th>NewLeague</th>\n",
       "    </tr>\n",
       "  </thead>\n",
       "  <tbody>\n",
       "    <tr>\n",
       "      <th>0</th>\n",
       "      <td>293</td>\n",
       "      <td>66</td>\n",
       "      <td>1</td>\n",
       "      <td>30</td>\n",
       "      <td>29</td>\n",
       "      <td>14</td>\n",
       "      <td>1</td>\n",
       "      <td>293</td>\n",
       "      <td>66</td>\n",
       "      <td>1</td>\n",
       "      <td>30</td>\n",
       "      <td>29</td>\n",
       "      <td>14</td>\n",
       "      <td>A</td>\n",
       "      <td>E</td>\n",
       "      <td>446</td>\n",
       "      <td>33</td>\n",
       "      <td>20</td>\n",
       "      <td>NaN</td>\n",
       "      <td>A</td>\n",
       "    </tr>\n",
       "    <tr>\n",
       "      <th>1</th>\n",
       "      <td>315</td>\n",
       "      <td>81</td>\n",
       "      <td>7</td>\n",
       "      <td>24</td>\n",
       "      <td>38</td>\n",
       "      <td>39</td>\n",
       "      <td>14</td>\n",
       "      <td>3449</td>\n",
       "      <td>835</td>\n",
       "      <td>69</td>\n",
       "      <td>321</td>\n",
       "      <td>414</td>\n",
       "      <td>375</td>\n",
       "      <td>N</td>\n",
       "      <td>W</td>\n",
       "      <td>632</td>\n",
       "      <td>43</td>\n",
       "      <td>10</td>\n",
       "      <td>475.0</td>\n",
       "      <td>N</td>\n",
       "    </tr>\n",
       "    <tr>\n",
       "      <th>2</th>\n",
       "      <td>479</td>\n",
       "      <td>130</td>\n",
       "      <td>18</td>\n",
       "      <td>66</td>\n",
       "      <td>72</td>\n",
       "      <td>76</td>\n",
       "      <td>3</td>\n",
       "      <td>1624</td>\n",
       "      <td>457</td>\n",
       "      <td>63</td>\n",
       "      <td>224</td>\n",
       "      <td>266</td>\n",
       "      <td>263</td>\n",
       "      <td>A</td>\n",
       "      <td>W</td>\n",
       "      <td>880</td>\n",
       "      <td>82</td>\n",
       "      <td>14</td>\n",
       "      <td>480.0</td>\n",
       "      <td>A</td>\n",
       "    </tr>\n",
       "    <tr>\n",
       "      <th>3</th>\n",
       "      <td>496</td>\n",
       "      <td>141</td>\n",
       "      <td>20</td>\n",
       "      <td>65</td>\n",
       "      <td>78</td>\n",
       "      <td>37</td>\n",
       "      <td>11</td>\n",
       "      <td>5628</td>\n",
       "      <td>1575</td>\n",
       "      <td>225</td>\n",
       "      <td>828</td>\n",
       "      <td>838</td>\n",
       "      <td>354</td>\n",
       "      <td>N</td>\n",
       "      <td>E</td>\n",
       "      <td>200</td>\n",
       "      <td>11</td>\n",
       "      <td>3</td>\n",
       "      <td>500.0</td>\n",
       "      <td>N</td>\n",
       "    </tr>\n",
       "    <tr>\n",
       "      <th>4</th>\n",
       "      <td>321</td>\n",
       "      <td>87</td>\n",
       "      <td>10</td>\n",
       "      <td>39</td>\n",
       "      <td>42</td>\n",
       "      <td>30</td>\n",
       "      <td>2</td>\n",
       "      <td>396</td>\n",
       "      <td>101</td>\n",
       "      <td>12</td>\n",
       "      <td>48</td>\n",
       "      <td>46</td>\n",
       "      <td>33</td>\n",
       "      <td>N</td>\n",
       "      <td>E</td>\n",
       "      <td>805</td>\n",
       "      <td>40</td>\n",
       "      <td>4</td>\n",
       "      <td>91.5</td>\n",
       "      <td>N</td>\n",
       "    </tr>\n",
       "  </tbody>\n",
       "</table>\n",
       "</div>"
      ],
      "text/plain": [
       "   AtBat  Hits  HmRun  Runs  RBI  Walks  Years  CAtBat  CHits  CHmRun  CRuns  \\\n",
       "0    293    66      1    30   29     14      1     293     66       1     30   \n",
       "1    315    81      7    24   38     39     14    3449    835      69    321   \n",
       "2    479   130     18    66   72     76      3    1624    457      63    224   \n",
       "3    496   141     20    65   78     37     11    5628   1575     225    828   \n",
       "4    321    87     10    39   42     30      2     396    101      12     48   \n",
       "\n",
       "   CRBI  CWalks League Division  PutOuts  Assists  Errors  Salary NewLeague  \n",
       "0    29      14      A        E      446       33      20     NaN         A  \n",
       "1   414     375      N        W      632       43      10   475.0         N  \n",
       "2   266     263      A        W      880       82      14   480.0         A  \n",
       "3   838     354      N        E      200       11       3   500.0         N  \n",
       "4    46      33      N        E      805       40       4    91.5         N  "
      ]
     },
     "execution_count": 3,
     "metadata": {},
     "output_type": "execute_result"
    }
   ],
   "source": [
    "hitters.head()"
   ]
  },
  {
   "cell_type": "code",
   "execution_count": 4,
   "id": "c1d848bd",
   "metadata": {},
   "outputs": [
    {
     "data": {
      "text/plain": [
       "(322, 20)"
      ]
     },
     "execution_count": 4,
     "metadata": {},
     "output_type": "execute_result"
    }
   ],
   "source": [
    "hitters.shape"
   ]
  },
  {
   "cell_type": "code",
   "execution_count": 5,
   "id": "8607661e",
   "metadata": {},
   "outputs": [],
   "source": [
    "hitters.dropna(axis=0, subset=['Salary'], inplace=True)"
   ]
  },
  {
   "cell_type": "code",
   "execution_count": 6,
   "id": "581ce74f",
   "metadata": {},
   "outputs": [
    {
     "data": {
      "text/plain": [
       "(263, 20)"
      ]
     },
     "execution_count": 6,
     "metadata": {},
     "output_type": "execute_result"
    }
   ],
   "source": [
    "hitters.shape"
   ]
  },
  {
   "cell_type": "code",
   "execution_count": 7,
   "id": "29a57a49",
   "metadata": {},
   "outputs": [
    {
     "data": {
      "image/png": "[encoded data removed]",
      "text/plain": [
       "<Figure size 720x360 with 2 Axes>"
      ]
     },
     "metadata": {
      "needs_background": "light"
     },
     "output_type": "display_data"
    }
   ],
   "source": [
    "# salary log transform\n",
    "salary_log = np.log(hitters.Salary)\n",
    "fig, ax = plt.subplots(1,2, figsize=(10,5))\n",
    "ax[0].hist(x = hitters.Salary, bins=15)\n",
    "ax[0].set_title('before log-transform')\n",
    "ax[0].grid()\n",
    "ax[1].hist(x = salary_log, bins=15)\n",
    "ax[1].set_title('after log-transform')\n",
    "ax[1].grid()"
   ]
  },
  {
   "cell_type": "code",
   "execution_count": 8,
   "id": "26955f13",
   "metadata": {},
   "outputs": [
    {
     "data": {
      "image/png": "[encoded data removed]",
      "text/plain": [
       "<Figure size 360x360 with 1 Axes>"
      ]
     },
     "metadata": {
      "needs_background": "light"
     },
     "output_type": "display_data"
    }
   ],
   "source": [
    "plt.figure(figsize=(5,5))\n",
    "plt.scatter(hitters.Years, hitters.Hits)\n",
    "plt.title('Hits vs Years')\n",
    "plt.xlabel('Years')\n",
    "plt.ylabel('Hits')\n",
    "plt.grid()"
   ]
  },
  {
   "cell_type": "markdown",
   "id": "4e5ae982",
   "metadata": {},
   "source": [
    "###  Recursice binary splitting"
   ]
  },
  {
   "cell_type": "code",
   "execution_count": 9,
   "id": "8d2e54eb",
   "metadata": {},
   "outputs": [
    {
     "data": {
      "text/html": [
       "<div>\n",
       "<style scoped>\n",
       "    .dataframe tbody tr th:only-of-type {\n",
       "        vertical-align: middle;\n",
       "    }\n",
       "\n",
       "    .dataframe tbody tr th {\n",
       "        vertical-align: top;\n",
       "    }\n",
       "\n",
       "    .dataframe thead th {\n",
       "        text-align: right;\n",
       "    }\n",
       "</style>\n",
       "<table border=\"1\" class=\"dataframe\">\n",
       "  <thead>\n",
       "    <tr style=\"text-align: right;\">\n",
       "      <th></th>\n",
       "      <th>AtBat</th>\n",
       "      <th>Hits</th>\n",
       "      <th>HmRun</th>\n",
       "      <th>Runs</th>\n",
       "      <th>RBI</th>\n",
       "      <th>Walks</th>\n",
       "      <th>Years</th>\n",
       "      <th>CAtBat</th>\n",
       "      <th>CHits</th>\n",
       "      <th>CHmRun</th>\n",
       "      <th>CRuns</th>\n",
       "      <th>CRBI</th>\n",
       "      <th>CWalks</th>\n",
       "      <th>League</th>\n",
       "      <th>Division</th>\n",
       "      <th>PutOuts</th>\n",
       "      <th>Assists</th>\n",
       "      <th>Errors</th>\n",
       "      <th>Salary</th>\n",
       "      <th>NewLeague</th>\n",
       "    </tr>\n",
       "  </thead>\n",
       "  <tbody>\n",
       "    <tr>\n",
       "      <th>1</th>\n",
       "      <td>315</td>\n",
       "      <td>81</td>\n",
       "      <td>7</td>\n",
       "      <td>24</td>\n",
       "      <td>38</td>\n",
       "      <td>39</td>\n",
       "      <td>14</td>\n",
       "      <td>3449</td>\n",
       "      <td>835</td>\n",
       "      <td>69</td>\n",
       "      <td>321</td>\n",
       "      <td>414</td>\n",
       "      <td>375</td>\n",
       "      <td>N</td>\n",
       "      <td>W</td>\n",
       "      <td>632</td>\n",
       "      <td>43</td>\n",
       "      <td>10</td>\n",
       "      <td>475.0</td>\n",
       "      <td>N</td>\n",
       "    </tr>\n",
       "    <tr>\n",
       "      <th>2</th>\n",
       "      <td>479</td>\n",
       "      <td>130</td>\n",
       "      <td>18</td>\n",
       "      <td>66</td>\n",
       "      <td>72</td>\n",
       "      <td>76</td>\n",
       "      <td>3</td>\n",
       "      <td>1624</td>\n",
       "      <td>457</td>\n",
       "      <td>63</td>\n",
       "      <td>224</td>\n",
       "      <td>266</td>\n",
       "      <td>263</td>\n",
       "      <td>A</td>\n",
       "      <td>W</td>\n",
       "      <td>880</td>\n",
       "      <td>82</td>\n",
       "      <td>14</td>\n",
       "      <td>480.0</td>\n",
       "      <td>A</td>\n",
       "    </tr>\n",
       "    <tr>\n",
       "      <th>3</th>\n",
       "      <td>496</td>\n",
       "      <td>141</td>\n",
       "      <td>20</td>\n",
       "      <td>65</td>\n",
       "      <td>78</td>\n",
       "      <td>37</td>\n",
       "      <td>11</td>\n",
       "      <td>5628</td>\n",
       "      <td>1575</td>\n",
       "      <td>225</td>\n",
       "      <td>828</td>\n",
       "      <td>838</td>\n",
       "      <td>354</td>\n",
       "      <td>N</td>\n",
       "      <td>E</td>\n",
       "      <td>200</td>\n",
       "      <td>11</td>\n",
       "      <td>3</td>\n",
       "      <td>500.0</td>\n",
       "      <td>N</td>\n",
       "    </tr>\n",
       "    <tr>\n",
       "      <th>4</th>\n",
       "      <td>321</td>\n",
       "      <td>87</td>\n",
       "      <td>10</td>\n",
       "      <td>39</td>\n",
       "      <td>42</td>\n",
       "      <td>30</td>\n",
       "      <td>2</td>\n",
       "      <td>396</td>\n",
       "      <td>101</td>\n",
       "      <td>12</td>\n",
       "      <td>48</td>\n",
       "      <td>46</td>\n",
       "      <td>33</td>\n",
       "      <td>N</td>\n",
       "      <td>E</td>\n",
       "      <td>805</td>\n",
       "      <td>40</td>\n",
       "      <td>4</td>\n",
       "      <td>91.5</td>\n",
       "      <td>N</td>\n",
       "    </tr>\n",
       "    <tr>\n",
       "      <th>5</th>\n",
       "      <td>594</td>\n",
       "      <td>169</td>\n",
       "      <td>4</td>\n",
       "      <td>74</td>\n",
       "      <td>51</td>\n",
       "      <td>35</td>\n",
       "      <td>11</td>\n",
       "      <td>4408</td>\n",
       "      <td>1133</td>\n",
       "      <td>19</td>\n",
       "      <td>501</td>\n",
       "      <td>336</td>\n",
       "      <td>194</td>\n",
       "      <td>A</td>\n",
       "      <td>W</td>\n",
       "      <td>282</td>\n",
       "      <td>421</td>\n",
       "      <td>25</td>\n",
       "      <td>750.0</td>\n",
       "      <td>A</td>\n",
       "    </tr>\n",
       "  </tbody>\n",
       "</table>\n",
       "</div>"
      ],
      "text/plain": [
       "   AtBat  Hits  HmRun  Runs  RBI  Walks  Years  CAtBat  CHits  CHmRun  CRuns  \\\n",
       "1    315    81      7    24   38     39     14    3449    835      69    321   \n",
       "2    479   130     18    66   72     76      3    1624    457      63    224   \n",
       "3    496   141     20    65   78     37     11    5628   1575     225    828   \n",
       "4    321    87     10    39   42     30      2     396    101      12     48   \n",
       "5    594   169      4    74   51     35     11    4408   1133      19    501   \n",
       "\n",
       "   CRBI  CWalks League Division  PutOuts  Assists  Errors  Salary NewLeague  \n",
       "1   414     375      N        W      632       43      10   475.0         N  \n",
       "2   266     263      A        W      880       82      14   480.0         A  \n",
       "3   838     354      N        E      200       11       3   500.0         N  \n",
       "4    46      33      N        E      805       40       4    91.5         N  \n",
       "5   336     194      A        W      282      421      25   750.0         A  "
      ]
     },
     "execution_count": 9,
     "metadata": {},
     "output_type": "execute_result"
    }
   ],
   "source": [
    "hitters.head()"
   ]
  },
  {
   "cell_type": "code",
   "execution_count": 10,
   "id": "98829573",
   "metadata": {},
   "outputs": [],
   "source": [
    "hitters_num = hitters.loc[:,hitters.dtypes == 'int64']"
   ]
  },
  {
   "cell_type": "code",
   "execution_count": 94,
   "id": "c101cd4d",
   "metadata": {},
   "outputs": [],
   "source": [
    "def find_s(x_in, y_ref, s):\n",
    "    \"\"\"\n",
    "    Function determines 's' parameter for indicidual predictor by minimization of RSS.\n",
    "    \"\"\"\n",
    "    RSS_min = np.inf\n",
    "    s_min = min(s)\n",
    "    for i in s:\n",
    "        R1_ind = np.argwhere(x_in<i)\n",
    "        R2_ind = np.argwhere(x_in>=i)\n",
    "        R1_mean = np.average(y_ref[R1_ind])\n",
    "        R2_mean = np.average(y_ref[R2_ind])\n",
    "        R1_RSS = sum((x_in[R1_ind]-R1_mean)**2)\n",
    "        R2_RSS = sum((x_in[R2_ind]-R2_mean)**2)\n",
    "        RSS_s = R1_RSS + R2_RSS\n",
    "        if RSS_s<RSS_min:\n",
    "            RSS_min = RSS_s\n",
    "            s_min = i\n",
    "    return RSS_min, s_min\n",
    "\n",
    "\n",
    "def split(x_in, y_ref, s_partitions):\n",
    "    \"\"\"\n",
    "    Function finds split parameters for individual split according to recursice binary splitting method.\n",
    "    x_in: pandas dataframe of input predictors\n",
    "    y_ref: pandas series of reference responses\n",
    "    s_partitions: number of partition between min and max predicor values when searching for minimum s value for individual predictor.\n",
    "    \n",
    "    return: index of predictor with min RSS, s_value for predictor with min RSS.\n",
    "    \"\"\"\n",
    "    pred_list = list(x_in.columns)\n",
    "    ref = np.array(y_ref)\n",
    "    RSS_min = []\n",
    "    s_min = []\n",
    "    for i in pred_list:\n",
    "        d_series = np.array(x_in[i])\n",
    "        s_values = np.linspace(min(d_series), max(d_series),s_partitions)[1:-1] # s values for individual predictor\n",
    "        RSS_, s_ = find_s(d_series, ref, s_values)\n",
    "        RSS_min.append(RSS_)\n",
    "        s_min.append(s_)\n",
    "    min_ind = np.argmin(RSS_min)\n",
    "    pred_min = pred_list[min_ind]\n",
    "    s_min = s_min[min_ind]\n",
    "    return pred_min, s_min\n",
    "\n",
    "\n",
    "def initial(x_in):\n",
    "    predictors = list(x_in.columns)\n",
    "    R_dict = {}\n",
    "    for i in predictors:\n",
    "        R_dict[i] = [min(x_in[i]),max(x_in[i])]\n",
    "    return R_dict\n",
    "\n",
    "# ne dela še\n",
    "def decision_tree(x_in, y_ref, s_partitions, R_size_max):\n",
    "    R_list = {'R0': initial(x_in)}\n",
    "    R_x_data = {'R0':x_in}\n",
    "    R_x_temp = R_x_data.copy()\n",
    "    R_y_data = {'R0':y_ref}\n",
    "    predictors = list(x_in.columns)\n",
    "    R_size=np.inf\n",
    "    name_ = 0\n",
    "    while R_size > R_size_max:\n",
    "        sizes=[]\n",
    "        for j, i in enumerate(R_x_temp):\n",
    "            #print(j,i)\n",
    "            if R_x_data[i].shape[0]>R_size_max:\n",
    "                pred_, s_ = split(R_x_data[i], R_y_data[i], s_partitions=s_partitions)\n",
    "                old = R_list[i][pred_].copy()\n",
    "                name_+=1\n",
    "                R_list[f'R{name_}'] = R_list[i].copy()\n",
    "                R_list[f'R{name_}'][pred_] = [s_, old[1]]\n",
    "                mask_1 = list(((R_x_data[i][pred_]>=R_list[f'R{name_}'][pred_][0]) & (R_x_data[i][pred_]<=R_list[f'R{name_}'][pred_][1])))\n",
    "                R_x_data[f'R{name_}'] = R_x_data[i][mask_1]\n",
    "                R_y_data[f'R{name_}'] = R_y_data[i][mask_1]\n",
    "                size_0 = R_x_data[f'R{name_}'].shape[0]\n",
    "                if size_0 == 0:\n",
    "                    del R_x_data[f'R{name_}']\n",
    "                    del R_y_data[f'R{name_}']\n",
    "                else:\n",
    "                    sizes.append(size_0)\n",
    "                name_+=1\n",
    "                R_list[f'R{name_}'] = R_list[i].copy()\n",
    "                R_list[f'R{name_}'][pred_] = [old[0],s_]\n",
    "                mask_2 = list(((R_x_data[i][pred_]>=R_list[f'R{name_}'][pred_][0]) & (R_x_data[i][pred_]<R_list[f'R{name_}'][pred_][1])))\n",
    "                R_x_data[f'R{name_}'] = R_x_data[i][mask_2]\n",
    "                R_y_data[f'R{name_}'] = R_y_data[i][mask_2]\n",
    "                size_1 = R_x_data[f'R{name_}'].shape[0]\n",
    "                if size_1 ==0:\n",
    "                    del R_x_data[f'R{name_}']\n",
    "                    del R_y_data[f'R{name_}']\n",
    "                else:\n",
    "                    sizes.append(size_1)\n",
    "                del R_list[i]\n",
    "                del R_x_data[i]\n",
    "                del R_y_data[i]\n",
    "            else:\n",
    "                sizes.append(R_x_data[i].shape[0])\n",
    "                pass\n",
    "        R_x_temp = R_x_data.copy()\n",
    "        R_size=max(sizes)\n",
    "        #print(list(R_list.keys()), sizes, sum(sizes))\n",
    "        #print('-----------------------------------------')\n",
    "    #print(R_list)\n",
    "    Y_outputs = {}\n",
    "    for j in R_list:\n",
    "        Y_outputs[j] = np.average(R_y_data[j])\n",
    "    \n",
    "    return R_list, Y_outputs"
   ]
  },
  {
   "cell_type": "code",
   "execution_count": 145,
   "id": "844b1b55",
   "metadata": {},
   "outputs": [],
   "source": [
    "def predict(input_, R_list, y_ref):\n",
    "    predictors = list(input_.index)\n",
    "    for i in list(R_list.keys()):\n",
    "        bool_list = []\n",
    "        for j in predictors:\n",
    "            if (input_[j] > R_list[i][j][0]) & (input_[j] < R_list[i][j][1]):\n",
    "                bool_list.append(1)\n",
    "            else:\n",
    "                bool_list.append(0)\n",
    "        if np.array(bool_list).all() == True:\n",
    "            return y_ref[i]"
   ]
  },
  {
   "cell_type": "code",
   "execution_count": 212,
   "id": "b484325c",
   "metadata": {
    "scrolled": false
   },
   "outputs": [
    {
     "name": "stdout",
     "output_type": "stream",
     "text": [
      "[50 45 40 35 30 25 20 15 10]\n"
     ]
    }
   ],
   "source": [
    "ind = 1\n",
    "pred_data = hitters_num.loc[ind]\n",
    "x_data = {50:[], 30:[], 10:[]}\n",
    "errors = {50:[], 30:[], 10:[]}\n",
    "predictions = {50:[], 30:[], 10:[]}\n",
    "refs = {50:[], 30:[], 10:[]}\n",
    "print(sizes)\n",
    "for r_size in [50, 30, 10]:\n",
    "    my_tree, y_ref_vals = decision_tree(hitters_num, hitters.Salary, s_partitions=30, R_size_max=r_size)\n",
    "    for i in hitters_num.index:\n",
    "        ref_y = hitters.loc[i].Salary\n",
    "        y_pred = predict(hitters_num.loc[i,:], my_tree, y_ref_vals)\n",
    "        if y_pred is None:\n",
    "            pass\n",
    "        else:\n",
    "            dif = abs(ref_y - y_pred)\n",
    "            errors[r_size].append(dif)\n",
    "            x_data[r_size].append(i)\n",
    "            predictions[r_size].append(y_pred)\n",
    "            refs[r_size].append(ref_y)"
   ]
  },
  {
   "cell_type": "code",
   "execution_count": 213,
   "id": "7747f6e8",
   "metadata": {},
   "outputs": [
    {
     "data": {
      "text/plain": [
       "[<matplotlib.lines.Line2D at 0x2646843e610>]"
      ]
     },
     "execution_count": 213,
     "metadata": {},
     "output_type": "execute_result"
    },
    {
     "data": {
      "image/png": "[encoded data removed]",
      "text/plain": [
       "<Figure size 432x288 with 1 Axes>"
      ]
     },
     "metadata": {
      "needs_background": "light"
     },
     "output_type": "display_data"
    }
   ],
   "source": [
    "plt.plot(refs[50])"
   ]
  },
  {
   "cell_type": "code",
   "execution_count": 222,
   "id": "61d897dd",
   "metadata": {},
   "outputs": [
    {
     "data": {
      "text/plain": [
       "[<matplotlib.lines.Line2D at 0x26468625e80>]"
      ]
     },
     "execution_count": 222,
     "metadata": {},
     "output_type": "execute_result"
    },
    {
     "data": {
      "image/png": "[encoded data removed]",
      "text/plain": [
       "<Figure size 432x288 with 1 Axes>"
      ]
     },
     "metadata": {
      "needs_background": "light"
     },
     "output_type": "display_data"
    }
   ],
   "source": [
    "plt.plot((ms.MSE(np.array(predictions[50]), np.array(refs[50])),ms.MSE(np.array(predictions[30]), np.array(refs[30])),ms.MSE(np.array(predictions[10]), np.array(refs[10]))),'o')"
   ]
  },
  {
   "cell_type": "code",
   "execution_count": 263,
   "id": "c3d800fc",
   "metadata": {},
   "outputs": [
    {
     "data": {
      "text/plain": [
       "(0.0, 100.0)"
      ]
     },
     "execution_count": 263,
     "metadata": {},
     "output_type": "execute_result"
    },
    {
     "data": {
      "image/png": "[encoded data removed]",
      "text/plain": [
       "<Figure size 432x288 with 1 Axes>"
      ]
     },
     "metadata": {
      "needs_background": "light"
     },
     "output_type": "display_data"
    }
   ],
   "source": [
    "plt.plot(x_data[50], refs[50],'-o')\n",
    "plt.plot(x_data[50], predictions[50],'o', label=50)\n",
    "plt.plot(x_data[30], predictions[30], 'o', label=30)\n",
    "plt.plot(x_data[10], predictions[10], 'o', label=10)\n",
    "plt.legend()\n",
    "plt.xlim(0,100)"
   ]
  },
  {
   "cell_type": "markdown",
   "id": "222266aa",
   "metadata": {},
   "source": [
    "##### Decision trees using sklearn"
   ]
  },
  {
   "cell_type": "code",
   "execution_count": 223,
   "id": "c8cddc00",
   "metadata": {},
   "outputs": [],
   "source": [
    "reg_tree = tree.DecisionTreeRegressor()"
   ]
  },
  {
   "cell_type": "code",
   "execution_count": 231,
   "id": "dfaa3073",
   "metadata": {},
   "outputs": [],
   "source": [
    "reg_tree_fit = reg_tree.fit(hitters_num, hitters.Salary)"
   ]
  },
  {
   "cell_type": "code",
   "execution_count": 235,
   "id": "cf7694ac",
   "metadata": {},
   "outputs": [],
   "source": [
    "sklearn_pred = reg_tree_fit.predict(hitters_num)\n"
   ]
  },
  {
   "cell_type": "code",
   "execution_count": 232,
   "id": "7b73397b",
   "metadata": {},
   "outputs": [
    {
     "data": {
      "text/plain": [
       "[<matplotlib.lines.Line2D at 0x264687169d0>]"
      ]
     },
     "execution_count": 232,
     "metadata": {},
     "output_type": "execute_result"
    },
    {
     "data": {
      "image/png": "[encoded data removed]",
      "text/plain": [
       "<Figure size 432x288 with 1 Axes>"
      ]
     },
     "metadata": {
      "needs_background": "light"
     },
     "output_type": "display_data"
    }
   ],
   "source": [
    "plt.plot(np.arange(131), reg_tree_fit.predict(hitters_num[1::2]),'-o')\n",
    "plt.plot(np.arange(131),hitters.Salary[1::2],'o')\n",
    "plt.plot(np.arange(131), reg_tree_fit.predict(hitters_num[1::2])- hitters.Salary[1::2])"
   ]
  },
  {
   "cell_type": "code",
   "execution_count": 236,
   "id": "0514260d",
   "metadata": {},
   "outputs": [
    {
     "data": {
      "text/plain": [
       "(142441.44243009764, 142559.52950642162, 105315.57744960418)"
      ]
     },
     "execution_count": 236,
     "metadata": {},
     "output_type": "execute_result"
    }
   ],
   "source": [
    "(ms.MSE(np.array(predictions[50]), np.array(refs[50])),ms.MSE(np.array(predictions[30]), np.array(refs[30])),ms.MSE(np.array(predictions[10]), np.array(refs[10])))"
   ]
  },
  {
   "cell_type": "code",
   "execution_count": 228,
   "id": "14423cdb",
   "metadata": {},
   "outputs": [
    {
     "data": {
      "text/plain": [
       "(131,)"
      ]
     },
     "execution_count": 228,
     "metadata": {},
     "output_type": "execute_result"
    }
   ],
   "source": [
    "reg_tree_fit.predict(hitters_num[1::2]).shape"
   ]
  },
  {
   "cell_type": "code",
   "execution_count": 229,
   "id": "d7fb246c",
   "metadata": {},
   "outputs": [
    {
     "data": {
      "text/plain": [
       "(131, 16)"
      ]
     },
     "execution_count": 229,
     "metadata": {},
     "output_type": "execute_result"
    }
   ],
   "source": [
    "hitters_num[1::2].shape"
   ]
  },
  {
   "cell_type": "code",
   "execution_count": 230,
   "id": "e72c466b",
   "metadata": {},
   "outputs": [
    {
     "data": {
      "text/plain": [
       "(131,)"
      ]
     },
     "execution_count": 230,
     "metadata": {},
     "output_type": "execute_result"
    }
   ],
   "source": [
    "hitters.Salary[1::2].shape"
   ]
  },
  {
   "cell_type": "code",
   "execution_count": null,
   "id": "4b257439",
   "metadata": {},
   "outputs": [],
   "source": []
  }
 ],
 "metadata": {
  "kernelspec": {
   "display_name": "Python 3 (ipykernel)",
   "language": "python",
   "name": "python3"
  },
  "language_info": {
   "codemirror_mode": {
    "name": "ipython",
    "version": 3
   },
   "file_extension": ".py",
   "mimetype": "text/x-python",
   "name": "python",
   "nbconvert_exporter": "python",
   "pygments_lexer": "ipython3",
   "version": "3.9.7"
  }
 },
 "nbformat": 4,
 "nbformat_minor": 5
}
