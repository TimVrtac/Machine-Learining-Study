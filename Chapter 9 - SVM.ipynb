{
 "cells": [
  {
   "cell_type": "code",
   "execution_count": 1,
   "id": "3d987e8b",
   "metadata": {},
   "outputs": [],
   "source": [
    "import matplotlib.pyplot as plt\n",
    "import numpy as np\n",
    "import pandas as pd\n",
    "import cvxopt # convex optimisation module\n",
    "import SVM as SVM_module\n",
    "import my_statistics as ms\n",
    "from tqdm.notebook import tqdm"
   ]
  },
  {
   "cell_type": "markdown",
   "id": "f2b36018",
   "metadata": {},
   "source": [
    "### Hyperplane in 2D space"
   ]
  },
  {
   "cell_type": "code",
   "execution_count": 2,
   "id": "df8d324b",
   "metadata": {},
   "outputs": [],
   "source": [
    "X_1, X_2 = np.linspace(-1.5, 1.5, 18), np.linspace(-1.5, 1.5, 18)\n",
    "X_1_=np.einsum('i,ij->ij',X_1,np.ones((len(X_1),len(X_2))))\n",
    "X_2_=np.einsum('j,ij->ij',X_2,np.ones((len(X_2),len(X_1))))\n",
    "values = 1 + 2* X_1_ + 3* X_2_"
   ]
  },
  {
   "cell_type": "code",
   "execution_count": 3,
   "id": "b703811c",
   "metadata": {},
   "outputs": [],
   "source": [
    "X_1_gr, X_2_gr = X_1[np.argwhere(values>0)[:,0]], X_2[np.argwhere(values>0)[:,1]]\n",
    "X_1_le, X_2_le = X_1[np.argwhere(values<0)[:,0]], X_2[np.argwhere(values<0)[:,1]]"
   ]
  },
  {
   "cell_type": "code",
   "execution_count": 4,
   "id": "af2f854c",
   "metadata": {},
   "outputs": [
    {
     "data": {
      "image/png": "[encoded data removed]",
      "text/plain": [
       "<Figure size 432x288 with 1 Axes>"
      ]
     },
     "metadata": {
      "needs_background": "light"
     },
     "output_type": "display_data"
    }
   ],
   "source": [
    "plt.scatter(X_1_gr,X_2_gr, c='r', s=.5, label='>0')\n",
    "plt.scatter(X_1_le,X_2_le, c='b', s=.5, label='<0')\n",
    "plt.plot(X_1, -1/3-2/3*X_1, c='k', label='hyperplane')\n",
    "plt.legend();"
   ]
  },
  {
   "cell_type": "markdown",
   "id": "9c07e174",
   "metadata": {},
   "source": [
    "### Maximal margin classifier"
   ]
  },
  {
   "cell_type": "markdown",
   "id": "402a17f4",
   "metadata": {},
   "source": [
    "#### Determination of Lagrange multipliers $\\alpha_i$ through Quadratic Programming (QP) optimization\n",
    "\n",
    "Expected problem formulation for QP:\n",
    "\\begin{equation}\n",
    "\\min \\frac{1}{2}\\vec{x}^TP\\vec{x} + \\vec{q}^T\\vec{x} ;\\quad A\\vec{x}=b,\\quad G\\vec{x} \\leq h\n",
    "\\end{equation}\n",
    "\n",
    "Our formulation:\n",
    "\\begin{equation}\n",
    "\\min \\frac{1}{2}\\vec{\\alpha}^TH\\vec{\\alpha} - \\vec{1}^T\\vec{\\alpha} ;\\quad y^T\\vec{\\alpha}=0,\\quad -\\alpha_i \\leq 0 \\forall i\n",
    "\\end{equation}"
   ]
  },
  {
   "cell_type": "markdown",
   "id": "56544600",
   "metadata": {},
   "source": [
    "#### Scikit-learn's Iris dataset"
   ]
  },
  {
   "cell_type": "code",
   "execution_count": 5,
   "id": "2221368b",
   "metadata": {},
   "outputs": [
    {
     "data": {
      "text/html": [
       "<div>\n",
       "<style scoped>\n",
       "    .dataframe tbody tr th:only-of-type {\n",
       "        vertical-align: middle;\n",
       "    }\n",
       "\n",
       "    .dataframe tbody tr th {\n",
       "        vertical-align: top;\n",
       "    }\n",
       "\n",
       "    .dataframe thead th {\n",
       "        text-align: right;\n",
       "    }\n",
       "</style>\n",
       "<table border=\"1\" class=\"dataframe\">\n",
       "  <thead>\n",
       "    <tr style=\"text-align: right;\">\n",
       "      <th></th>\n",
       "      <th>petal length (cm)</th>\n",
       "      <th>petal width (cm)</th>\n",
       "      <th>target</th>\n",
       "    </tr>\n",
       "  </thead>\n",
       "  <tbody>\n",
       "    <tr>\n",
       "      <th>0</th>\n",
       "      <td>1.4</td>\n",
       "      <td>0.2</td>\n",
       "      <td>-1.0</td>\n",
       "    </tr>\n",
       "  </tbody>\n",
       "</table>\n",
       "</div>"
      ],
      "text/plain": [
       "   petal length (cm)  petal width (cm)  target\n",
       "0                1.4               0.2    -1.0"
      ]
     },
     "execution_count": 5,
     "metadata": {},
     "output_type": "execute_result"
    }
   ],
   "source": [
    "from sklearn.datasets import load_iris\n",
    "iris = load_iris()\n",
    "iris_df = pd.DataFrame(data= np.c_[iris[\"data\"], iris[\"target\"]], columns= iris[\"feature_names\"] + [\"target\"])\n",
    "# Retain only 2 linearly separable classes\n",
    "iris_df = iris_df[iris_df[\"target\"].isin([0,1])]\n",
    "iris_df[\"target\"] = iris_df[[\"target\"]].replace(0,-1)\n",
    "# Select only 2 attributes\n",
    "iris_df = iris_df[[\"petal length (cm)\", \"petal width (cm)\", \"target\"]]\n",
    "iris_df.head(1)"
   ]
  },
  {
   "cell_type": "code",
   "execution_count": 6,
   "id": "c29dbb65",
   "metadata": {},
   "outputs": [],
   "source": [
    "X = iris_df[[\"petal length (cm)\", \"petal width (cm)\"]].to_numpy()\n",
    "y = iris_df[[\"target\"]].to_numpy()"
   ]
  },
  {
   "cell_type": "code",
   "execution_count": 7,
   "id": "9d385910",
   "metadata": {},
   "outputs": [
    {
     "name": "stdout",
     "output_type": "stream",
     "text": [
      "     pcost       dcost       gap    pres   dres\n",
      " 0: -5.8693e+00 -1.1241e+01  3e+02  1e+01  2e+00\n",
      " 1: -5.9277e+00 -3.6988e+00  4e+01  2e+00  3e-01\n",
      " 2: -1.0647e+00 -1.9434e+00  5e+00  2e-01  2e-02\n",
      " 3: -6.5979e-01 -1.1956e+00  6e-01  6e-03  8e-04\n",
      " 4: -8.3813e-01 -1.2988e+00  5e-01  3e-03  4e-04\n",
      " 5: -1.1588e+00 -1.1784e+00  2e-02  8e-05  1e-05\n",
      " 6: -1.1763e+00 -1.1765e+00  2e-04  8e-07  1e-07\n",
      " 7: -1.1765e+00 -1.1765e+00  2e-06  8e-09  1e-09\n",
      " 8: -1.1765e+00 -1.1765e+00  2e-08  8e-11  1e-11\n",
      "Optimal solution found.\n"
     ]
    }
   ],
   "source": [
    "w, b, M = SVM_module.SVM(X,y, S_=2)"
   ]
  },
  {
   "cell_type": "code",
   "execution_count": 8,
   "id": "c5577611",
   "metadata": {},
   "outputs": [
    {
     "data": {
      "text/plain": [
       "[<matplotlib.lines.Line2D at 0x1b019fd7be0>]"
      ]
     },
     "execution_count": 8,
     "metadata": {},
     "output_type": "execute_result"
    },
    {
     "data": {
      "image/png": "[encoded data removed]",
      "text/plain": [
       "<Figure size 360x360 with 1 Axes>"
      ]
     },
     "metadata": {
      "needs_background": "light"
     },
     "output_type": "display_data"
    }
   ],
   "source": [
    "x_min=0\n",
    "x_max=5.5\n",
    "plt.figure(figsize=(5,5))\n",
    "plt.xlim(x_min,x_max)\n",
    "plt.ylim(-.5,2)\n",
    "x1_values = np.linspace(x_min,x_max,100)\n",
    "hyperplane_X1 = (-1*x1_values*w[0]- b)/w[1]\n",
    "poz_margin_line = hyperplane_X1 + np.sqrt(1 + (w[0]/w[1])**2)*M\n",
    "neg_margin_line = hyperplane_X1 - np.sqrt(1 + (w[0]/w[1])**2)*M\n",
    "plt.scatter(X[:, 0], X[:, 1], c=y.ravel(), alpha=0.5, edgecolors=\"black\")\n",
    "plt.plot(x1_values, hyperplane_X1, color='k')\n",
    "plt.plot(x1_values, poz_margin_line, c='g',ls='--' )\n",
    "plt.plot(x1_values, neg_margin_line, c='g',ls='--' )"
   ]
  },
  {
   "cell_type": "markdown",
   "id": "4b7d2576",
   "metadata": {},
   "source": [
    "#### Random data divided into groups on the basis of ref_plane function parameters"
   ]
  },
  {
   "cell_type": "code",
   "execution_count": 9,
   "id": "381e77d6",
   "metadata": {},
   "outputs": [],
   "source": [
    "def ref_plane(X,Y):\n",
    "    return 1 + 2* X + 10* Y"
   ]
  },
  {
   "cell_type": "code",
   "execution_count": 10,
   "id": "2c006812",
   "metadata": {},
   "outputs": [],
   "source": [
    "no_of_points = 50\n",
    "X1 = np.random.random(no_of_points)*3 - 1.5\n",
    "X2 = np.random.random(no_of_points)*3 - 1.5\n",
    "values = ref_plane(X1, X2)\n",
    "classes, class_color = np.where(values>0, 1, -1), np.where(values>0, 'r', 'b')\n",
    "X = np.concatenate([X1[:,np.newaxis], X2[:,np.newaxis]], axis = 1)\n",
    "Y = np.array(classes, dtype=float)"
   ]
  },
  {
   "cell_type": "code",
   "execution_count": 11,
   "id": "b01ebc33",
   "metadata": {},
   "outputs": [
    {
     "name": "stdout",
     "output_type": "stream",
     "text": [
      "     pcost       dcost       gap    pres   dres\n",
      " 0: -1.2399e+01 -2.6483e+01  1e+02  1e+01  2e+00\n",
      " 1: -3.2431e+01 -3.5160e+01  6e+01  4e+00  9e-01\n",
      " 2: -1.0108e+02 -9.7624e+01  6e+01  4e+00  9e-01\n",
      " 3: -1.7631e+02 -1.6283e+02  1e+02  4e+00  8e-01\n",
      " 4: -1.1994e+02 -1.2357e+02  1e+02  2e+00  4e-01\n",
      " 5: -8.9268e+01 -9.1600e+01  8e+00  8e-02  2e-02\n",
      " 6: -8.8136e+01 -8.8161e+01  8e-02  8e-04  2e-04\n",
      " 7: -8.8126e+01 -8.8127e+01  8e-04  8e-06  2e-06\n",
      " 8: -8.8126e+01 -8.8126e+01  8e-06  8e-08  2e-08\n",
      "Optimal solution found.\n"
     ]
    }
   ],
   "source": [
    "w, b, M = SVM_module.SVM(X, Y[:,np.newaxis], S_=2)"
   ]
  },
  {
   "cell_type": "code",
   "execution_count": 12,
   "id": "555f356e",
   "metadata": {},
   "outputs": [
    {
     "data": {
      "text/plain": [
       "(array([ 3.17427651, 12.89093863]), 1.8170145989942874, 0.07532385980163642)"
      ]
     },
     "execution_count": 12,
     "metadata": {},
     "output_type": "execute_result"
    }
   ],
   "source": [
    "w, b, M"
   ]
  },
  {
   "cell_type": "code",
   "execution_count": 13,
   "id": "e96cd90d",
   "metadata": {},
   "outputs": [
    {
     "data": {
      "text/plain": [
       "[<matplotlib.lines.Line2D at 0x1b01c129580>]"
      ]
     },
     "execution_count": 13,
     "metadata": {},
     "output_type": "execute_result"
    },
    {
     "data": {
      "image/png": "[encoded data removed]",
      "text/plain": [
       "<Figure size 432x288 with 1 Axes>"
      ]
     },
     "metadata": {
      "needs_background": "light"
     },
     "output_type": "display_data"
    }
   ],
   "source": [
    "x_min=-1.5\n",
    "x_max=1.5\n",
    "plt.xlim(x_min,x_max)\n",
    "for i in range(X.shape[0]):\n",
    "    plt.scatter(X[i,0], X[i,1], c=class_color[i])\n",
    "    plt.annotate(i, (X[i,0], X[i,1]))\n",
    "x1_values = np.linspace(-1.5,1.5,100)\n",
    "hyperplane_X1 = (-1*x1_values*w[0]- b)/w[1]\n",
    "poz_margin_line = hyperplane_X1 + np.sqrt(1 + (w[0]/w[1])**2)*M\n",
    "neg_margin_line = hyperplane_X1 - np.sqrt(1 + (w[0]/w[1])**2)*M\n",
    "plt.plot(x1_values, hyperplane_X1, color='k')\n",
    "plt.plot(x1_values, poz_margin_line, c='g',ls='--' )\n",
    "plt.plot(x1_values, neg_margin_line, c='g',ls='--' )"
   ]
  },
  {
   "cell_type": "code",
   "execution_count": 14,
   "id": "f40f77cd",
   "metadata": {},
   "outputs": [],
   "source": [
    "X_test = np.array([1.5, -0.2])\n",
    "value = SVM_module.get_SVM_val(X_test, w, b)"
   ]
  },
  {
   "cell_type": "code",
   "execution_count": 15,
   "id": "bb7ad9ec",
   "metadata": {},
   "outputs": [
    {
     "data": {
      "text/plain": [
       "(4.000241633419699, array([1.]))"
      ]
     },
     "execution_count": 15,
     "metadata": {},
     "output_type": "execute_result"
    }
   ],
   "source": [
    "value, SVM_module.SVM_predict(X_test[np.newaxis], w, b)"
   ]
  },
  {
   "cell_type": "markdown",
   "id": "e5f4d358",
   "metadata": {},
   "source": [
    "#### SVM class"
   ]
  },
  {
   "cell_type": "code",
   "execution_count": 16,
   "id": "ac66df7e",
   "metadata": {},
   "outputs": [],
   "source": [
    "from SVM_class import SVM\n",
    "from SVM_class import k_fold_CV_for_SVM"
   ]
  },
  {
   "cell_type": "code",
   "execution_count": 17,
   "id": "ae399b11",
   "metadata": {},
   "outputs": [],
   "source": [
    "svm_ = SVM(X, Y[:,np.newaxis],kernel='linear')"
   ]
  },
  {
   "cell_type": "code",
   "execution_count": 18,
   "id": "d991eb0f",
   "metadata": {},
   "outputs": [],
   "source": [
    "# generation of sep. plane param\n",
    "svm_.train()"
   ]
  },
  {
   "cell_type": "code",
   "execution_count": 19,
   "id": "c03c8973",
   "metadata": {},
   "outputs": [],
   "source": [
    "# testing data generation\n",
    "no_of_points_test = 100\n",
    "X1_test = np.random.random(no_of_points_test)*3 - 1.5\n",
    "X2_test = np.random.random(no_of_points_test)*3 - 1.5\n",
    "values_test = ref_plane(X1_test, X2_test)\n",
    "classes_test = np.where(values_test>0, 1., -1.)\n",
    "X_test = np.concatenate([X1_test[:,np.newaxis], X2_test[:,np.newaxis]], axis = 1)\n",
    "Y_test = np.array(classes_test, dtype=float)"
   ]
  },
  {
   "cell_type": "code",
   "execution_count": 20,
   "id": "50cfae39",
   "metadata": {},
   "outputs": [],
   "source": [
    "SVM_pred = svm_.predict(X_test)"
   ]
  },
  {
   "cell_type": "code",
   "execution_count": 21,
   "id": "6b81e3aa",
   "metadata": {},
   "outputs": [
    {
     "name": "stdout",
     "output_type": "stream",
     "text": [
      "+-------------+-----------------------+------------------------+------+\n",
      "| True status |           No          |          Yes           | Sums |\n",
      "+-------------+-----------------------+------------------------+------+\n",
      "|  Prediciton |                       |                        |      |\n",
      "|      No     |         TN = 42       |         FN = 0         |  42  |\n",
      "|     Yes     |         FP = 1        |         TP = 57        |  58  |\n",
      "|             | specificity = 97.67 % | sensitivity = 100.00 % |      |\n",
      "|     Sums    |           42          |           57           | 100  |\n",
      "+-------------+-----------------------+------------------------+------+\n"
     ]
    }
   ],
   "source": [
    "ms.confusion_matrix(SVM_pred, classes_test, classes=[-1,1], print_=True);"
   ]
  },
  {
   "cell_type": "code",
   "execution_count": 22,
   "id": "13e86fdf",
   "metadata": {},
   "outputs": [
    {
     "data": {
      "text/plain": [
       "<matplotlib.collections.PathCollection at 0x1b01c266880>"
      ]
     },
     "execution_count": 22,
     "metadata": {},
     "output_type": "execute_result"
    },
    {
     "data": {
      "image/png": "[encoded data removed]",
      "text/plain": [
       "<Figure size 432x288 with 1 Axes>"
      ]
     },
     "metadata": {
      "needs_background": "light"
     },
     "output_type": "display_data"
    }
   ],
   "source": [
    "x_min=-1.5\n",
    "x_max=1.5\n",
    "plt.xlim(x_min,x_max)\n",
    "for i in range(X.shape[0]):\n",
    "    plt.scatter(X[i,0], X[i,1], c=class_color[i])\n",
    "    plt.annotate(i, (X[i,0], X[i,1]))\n",
    "x1_values = np.linspace(-1.5,1.5,100)\n",
    "hyperplane_X1 = (-1*x1_values*svm_.w[0]- svm_.b)/w[1]\n",
    "poz_margin_line = hyperplane_X1 + np.sqrt(1 + (w[0]/w[1])**2)*M\n",
    "neg_margin_line = hyperplane_X1 - np.sqrt(1 + (w[0]/w[1])**2)*M\n",
    "plt.plot(x1_values, hyperplane_X1, color='k')\n",
    "plt.plot(x1_values, poz_margin_line, c='g',ls='--' )\n",
    "plt.plot(x1_values, neg_margin_line, c='g',ls='--' )\n",
    "plt.scatter(X_test[:,0], X_test[:,1], c='green')"
   ]
  },
  {
   "cell_type": "markdown",
   "id": "efece7a3",
   "metadata": {},
   "source": [
    "### SVM with Scikit-learn"
   ]
  },
  {
   "cell_type": "code",
   "execution_count": 23,
   "id": "a71bbd5b",
   "metadata": {},
   "outputs": [],
   "source": [
    "from sklearn import svm"
   ]
  },
  {
   "cell_type": "code",
   "execution_count": 24,
   "id": "b439f8b1",
   "metadata": {},
   "outputs": [],
   "source": [
    "svm_cl = svm.SVC(kernel='linear')"
   ]
  },
  {
   "cell_type": "code",
   "execution_count": 25,
   "id": "8271bafc",
   "metadata": {},
   "outputs": [],
   "source": [
    "svm_cl.fit(X[1::2], Y[1::2]);"
   ]
  },
  {
   "cell_type": "code",
   "execution_count": 26,
   "id": "e4c98200",
   "metadata": {},
   "outputs": [],
   "source": [
    "Y_pred = svm_cl.predict(X[::2])"
   ]
  },
  {
   "cell_type": "code",
   "execution_count": 27,
   "id": "16532ab2",
   "metadata": {},
   "outputs": [],
   "source": [
    "Y_pred_color = np.where(Y_pred==1, 'r', 'b')"
   ]
  },
  {
   "cell_type": "markdown",
   "id": "a8e3b4fb",
   "metadata": {},
   "source": [
    "### Support Vector Classifier - Soft Margin SVM"
   ]
  },
  {
   "cell_type": "code",
   "execution_count": 28,
   "id": "1c02e85b",
   "metadata": {},
   "outputs": [],
   "source": [
    "def ref_plane(X,Y):\n",
    "    return 1 + 2* X + 10* Y"
   ]
  },
  {
   "cell_type": "code",
   "execution_count": 29,
   "id": "41f29462",
   "metadata": {},
   "outputs": [],
   "source": [
    "no_of_points = 150\n",
    "mixing_level = 3\n",
    "X1 = np.random.random(no_of_points)*3 - 1.5\n",
    "X2 = np.random.random(no_of_points)*3 - 1.5\n",
    "values = ref_plane(X1, X2)\n",
    "values[abs(values)<mixing_level] = values[abs(values)<mixing_level]*np.sign(np.random.normal())\n",
    "classes, class_color = np.where(values>0, 1, -1), np.where(values>0, 'r', 'b')\n",
    "X = np.concatenate([X1[:,np.newaxis], X2[:,np.newaxis]], axis = 1)\n",
    "Y = np.array(classes, dtype=float)"
   ]
  },
  {
   "cell_type": "code",
   "execution_count": 30,
   "id": "ab5ea0d5",
   "metadata": {},
   "outputs": [],
   "source": [
    "svm_soft_M = SVM(X, Y[:,np.newaxis], C = 4, kernel='linear')\n",
    "svm_soft_M.train()"
   ]
  },
  {
   "cell_type": "code",
   "execution_count": 31,
   "id": "ca896e31",
   "metadata": {},
   "outputs": [],
   "source": [
    "# testing data generation\n",
    "no_of_points_test = 100\n",
    "X1_test = np.random.random(no_of_points_test)*3 - 1.5\n",
    "X2_test = np.random.random(no_of_points_test)*3 - 1.5\n",
    "values_test = ref_plane(X1_test, X2_test)\n",
    "classes_test = np.where(values_test>0, 1., -1.)\n",
    "X_test = np.concatenate([X1_test[:,np.newaxis], X2_test[:,np.newaxis]], axis = 1)\n",
    "Y_test = np.array(classes_test, dtype=float)"
   ]
  },
  {
   "cell_type": "code",
   "execution_count": 32,
   "id": "8d17ce3f",
   "metadata": {},
   "outputs": [],
   "source": [
    "SVM_pred = svm_soft_M.predict(X_test)"
   ]
  },
  {
   "cell_type": "code",
   "execution_count": 33,
   "id": "d29b883c",
   "metadata": {},
   "outputs": [
    {
     "name": "stdout",
     "output_type": "stream",
     "text": [
      "+-------------+-----------------------+------------------------+------+\n",
      "| True status |           No          |          Yes           | Sums |\n",
      "+-------------+-----------------------+------------------------+------+\n",
      "|  Prediciton |                       |                        |      |\n",
      "|      No     |         TN = 39       |         FN = 0         |  39  |\n",
      "|     Yes     |         FP = 2        |         TP = 59        |  61  |\n",
      "|             | specificity = 95.12 % | sensitivity = 100.00 % |      |\n",
      "|     Sums    |           39          |           59           | 100  |\n",
      "+-------------+-----------------------+------------------------+------+\n"
     ]
    }
   ],
   "source": [
    "ms.confusion_matrix(SVM_pred, classes_test, classes=[-1,1], print_=True);"
   ]
  },
  {
   "cell_type": "code",
   "execution_count": 34,
   "id": "e7f26b9e",
   "metadata": {},
   "outputs": [
    {
     "data": {
      "text/plain": [
       "<matplotlib.collections.PathCollection at 0x1b01c7608e0>"
      ]
     },
     "execution_count": 34,
     "metadata": {},
     "output_type": "execute_result"
    },
    {
     "data": {
      "image/png": "[encoded data removed]",
      "text/plain": [
       "<Figure size 432x288 with 1 Axes>"
      ]
     },
     "metadata": {
      "needs_background": "light"
     },
     "output_type": "display_data"
    }
   ],
   "source": [
    "x_min=-1.5\n",
    "x_max=1.5\n",
    "plt.xlim(x_min,x_max)\n",
    "for i in range(X.shape[0]):\n",
    "    plt.scatter(X[i,0], X[i,1], c=class_color[i])\n",
    "    plt.annotate(i, (X[i,0], X[i,1]))\n",
    "x1_values = np.linspace(-1.5,1.5,100)\n",
    "hyperplane_X1 = (-1*x1_values*svm_soft_M.w[0]- svm_soft_M.b)/svm_soft_M.w[1]\n",
    "poz_margin_line = hyperplane_X1 + np.sqrt(1 + (svm_soft_M.w[0]/svm_soft_M.w[1])**2)*svm_soft_M.M\n",
    "neg_margin_line = hyperplane_X1 - np.sqrt(1 + (svm_soft_M.w[0]/svm_soft_M.w[1])**2)*svm_soft_M.M\n",
    "plt.plot(x1_values, hyperplane_X1, color='k')\n",
    "plt.plot(x1_values, poz_margin_line, c='g',ls='--' )\n",
    "plt.plot(x1_values, neg_margin_line, c='g',ls='--' )\n",
    "plt.scatter(X_test[:,0], X_test[:,1], c='green')\n",
    "#plt.scatter(X[(svm_soft_M.alphas>1e-3).flatten(), 0], X[(svm_soft_M.alphas>1e-3).flatten(), 1], color='yellow')"
   ]
  },
  {
   "cell_type": "code",
   "execution_count": 35,
   "id": "a65905bb",
   "metadata": {},
   "outputs": [
    {
     "data": {
      "application/vnd.jupyter.widget-view+json": {
       "model_id": "1b55e56178724812a2a4fd406a5e2396",
       "version_major": 2,
       "version_minor": 0
      },
      "text/plain": [
       "Main loop:   0%|          | 0/50 [00:00<?, ?it/s]"
      ]
     },
     "metadata": {},
     "output_type": "display_data"
    },
    {
     "data": {
      "application/vnd.jupyter.widget-view+json": {
       "model_id": "",
       "version_major": 2,
       "version_minor": 0
      },
      "text/plain": [
       "loop for K = 0.0:   0%|          | 0/10 [00:00<?, ?it/s]"
      ]
     },
     "metadata": {},
     "output_type": "display_data"
    },
    {
     "data": {
      "application/vnd.jupyter.widget-view+json": {
       "model_id": "",
       "version_major": 2,
       "version_minor": 0
      },
      "text/plain": [
       "loop for K = 0.20408163265306123:   0%|          | 0/10 [00:00<?, ?it/s]"
      ]
     },
     "metadata": {},
     "output_type": "display_data"
    },
    {
     "data": {
      "application/vnd.jupyter.widget-view+json": {
       "model_id": "",
       "version_major": 2,
       "version_minor": 0
      },
      "text/plain": [
       "loop for K = 0.40816326530612246:   0%|          | 0/10 [00:00<?, ?it/s]"
      ]
     },
     "metadata": {},
     "output_type": "display_data"
    },
    {
     "data": {
      "application/vnd.jupyter.widget-view+json": {
       "model_id": "",
       "version_major": 2,
       "version_minor": 0
      },
      "text/plain": [
       "loop for K = 0.6122448979591837:   0%|          | 0/10 [00:00<?, ?it/s]"
      ]
     },
     "metadata": {},
     "output_type": "display_data"
    },
    {
     "data": {
      "application/vnd.jupyter.widget-view+json": {
       "model_id": "",
       "version_major": 2,
       "version_minor": 0
      },
      "text/plain": [
       "loop for K = 0.8163265306122449:   0%|          | 0/10 [00:00<?, ?it/s]"
      ]
     },
     "metadata": {},
     "output_type": "display_data"
    },
    {
     "data": {
      "application/vnd.jupyter.widget-view+json": {
       "model_id": "",
       "version_major": 2,
       "version_minor": 0
      },
      "text/plain": [
       "loop for K = 1.0204081632653061:   0%|          | 0/10 [00:00<?, ?it/s]"
      ]
     },
     "metadata": {},
     "output_type": "display_data"
    },
    {
     "data": {
      "application/vnd.jupyter.widget-view+json": {
       "model_id": "",
       "version_major": 2,
       "version_minor": 0
      },
      "text/plain": [
       "loop for K = 1.2244897959183674:   0%|          | 0/10 [00:00<?, ?it/s]"
      ]
     },
     "metadata": {},
     "output_type": "display_data"
    },
    {
     "data": {
      "application/vnd.jupyter.widget-view+json": {
       "model_id": "",
       "version_major": 2,
       "version_minor": 0
      },
      "text/plain": [
       "loop for K = 1.4285714285714286:   0%|          | 0/10 [00:00<?, ?it/s]"
      ]
     },
     "metadata": {},
     "output_type": "display_data"
    },
    {
     "data": {
      "application/vnd.jupyter.widget-view+json": {
       "model_id": "",
       "version_major": 2,
       "version_minor": 0
      },
      "text/plain": [
       "loop for K = 1.6326530612244898:   0%|          | 0/10 [00:00<?, ?it/s]"
      ]
     },
     "metadata": {},
     "output_type": "display_data"
    },
    {
     "data": {
      "application/vnd.jupyter.widget-view+json": {
       "model_id": "",
       "version_major": 2,
       "version_minor": 0
      },
      "text/plain": [
       "loop for K = 1.836734693877551:   0%|          | 0/10 [00:00<?, ?it/s]"
      ]
     },
     "metadata": {},
     "output_type": "display_data"
    },
    {
     "data": {
      "application/vnd.jupyter.widget-view+json": {
       "model_id": "",
       "version_major": 2,
       "version_minor": 0
      },
      "text/plain": [
       "loop for K = 2.0408163265306123:   0%|          | 0/10 [00:00<?, ?it/s]"
      ]
     },
     "metadata": {},
     "output_type": "display_data"
    },
    {
     "data": {
      "application/vnd.jupyter.widget-view+json": {
       "model_id": "",
       "version_major": 2,
       "version_minor": 0
      },
      "text/plain": [
       "loop for K = 2.2448979591836737:   0%|          | 0/10 [00:00<?, ?it/s]"
      ]
     },
     "metadata": {},
     "output_type": "display_data"
    },
    {
     "data": {
      "application/vnd.jupyter.widget-view+json": {
       "model_id": "",
       "version_major": 2,
       "version_minor": 0
      },
      "text/plain": [
       "loop for K = 2.4489795918367347:   0%|          | 0/10 [00:00<?, ?it/s]"
      ]
     },
     "metadata": {},
     "output_type": "display_data"
    },
    {
     "data": {
      "application/vnd.jupyter.widget-view+json": {
       "model_id": "",
       "version_major": 2,
       "version_minor": 0
      },
      "text/plain": [
       "loop for K = 2.6530612244897958:   0%|          | 0/10 [00:00<?, ?it/s]"
      ]
     },
     "metadata": {},
     "output_type": "display_data"
    },
    {
     "data": {
      "application/vnd.jupyter.widget-view+json": {
       "model_id": "",
       "version_major": 2,
       "version_minor": 0
      },
      "text/plain": [
       "loop for K = 2.857142857142857:   0%|          | 0/10 [00:00<?, ?it/s]"
      ]
     },
     "metadata": {},
     "output_type": "display_data"
    },
    {
     "data": {
      "application/vnd.jupyter.widget-view+json": {
       "model_id": "",
       "version_major": 2,
       "version_minor": 0
      },
      "text/plain": [
       "loop for K = 3.0612244897959187:   0%|          | 0/10 [00:00<?, ?it/s]"
      ]
     },
     "metadata": {},
     "output_type": "display_data"
    },
    {
     "data": {
      "application/vnd.jupyter.widget-view+json": {
       "model_id": "",
       "version_major": 2,
       "version_minor": 0
      },
      "text/plain": [
       "loop for K = 3.2653061224489797:   0%|          | 0/10 [00:00<?, ?it/s]"
      ]
     },
     "metadata": {},
     "output_type": "display_data"
    },
    {
     "data": {
      "application/vnd.jupyter.widget-view+json": {
       "model_id": "",
       "version_major": 2,
       "version_minor": 0
      },
      "text/plain": [
       "loop for K = 3.4693877551020407:   0%|          | 0/10 [00:00<?, ?it/s]"
      ]
     },
     "metadata": {},
     "output_type": "display_data"
    },
    {
     "data": {
      "application/vnd.jupyter.widget-view+json": {
       "model_id": "",
       "version_major": 2,
       "version_minor": 0
      },
      "text/plain": [
       "loop for K = 3.673469387755102:   0%|          | 0/10 [00:00<?, ?it/s]"
      ]
     },
     "metadata": {},
     "output_type": "display_data"
    },
    {
     "data": {
      "application/vnd.jupyter.widget-view+json": {
       "model_id": "",
       "version_major": 2,
       "version_minor": 0
      },
      "text/plain": [
       "loop for K = 3.8775510204081636:   0%|          | 0/10 [00:00<?, ?it/s]"
      ]
     },
     "metadata": {},
     "output_type": "display_data"
    },
    {
     "data": {
      "application/vnd.jupyter.widget-view+json": {
       "model_id": "",
       "version_major": 2,
       "version_minor": 0
      },
      "text/plain": [
       "loop for K = 4.081632653061225:   0%|          | 0/10 [00:00<?, ?it/s]"
      ]
     },
     "metadata": {},
     "output_type": "display_data"
    },
    {
     "data": {
      "application/vnd.jupyter.widget-view+json": {
       "model_id": "",
       "version_major": 2,
       "version_minor": 0
      },
      "text/plain": [
       "loop for K = 4.285714285714286:   0%|          | 0/10 [00:00<?, ?it/s]"
      ]
     },
     "metadata": {},
     "output_type": "display_data"
    },
    {
     "data": {
      "application/vnd.jupyter.widget-view+json": {
       "model_id": "",
       "version_major": 2,
       "version_minor": 0
      },
      "text/plain": [
       "loop for K = 4.4897959183673475:   0%|          | 0/10 [00:00<?, ?it/s]"
      ]
     },
     "metadata": {},
     "output_type": "display_data"
    },
    {
     "data": {
      "application/vnd.jupyter.widget-view+json": {
       "model_id": "",
       "version_major": 2,
       "version_minor": 0
      },
      "text/plain": [
       "loop for K = 4.6938775510204085:   0%|          | 0/10 [00:00<?, ?it/s]"
      ]
     },
     "metadata": {},
     "output_type": "display_data"
    },
    {
     "data": {
      "application/vnd.jupyter.widget-view+json": {
       "model_id": "",
       "version_major": 2,
       "version_minor": 0
      },
      "text/plain": [
       "loop for K = 4.8979591836734695:   0%|          | 0/10 [00:00<?, ?it/s]"
      ]
     },
     "metadata": {},
     "output_type": "display_data"
    },
    {
     "data": {
      "application/vnd.jupyter.widget-view+json": {
       "model_id": "",
       "version_major": 2,
       "version_minor": 0
      },
      "text/plain": [
       "loop for K = 5.1020408163265305:   0%|          | 0/10 [00:00<?, ?it/s]"
      ]
     },
     "metadata": {},
     "output_type": "display_data"
    },
    {
     "data": {
      "application/vnd.jupyter.widget-view+json": {
       "model_id": "",
       "version_major": 2,
       "version_minor": 0
      },
      "text/plain": [
       "loop for K = 5.3061224489795915:   0%|          | 0/10 [00:00<?, ?it/s]"
      ]
     },
     "metadata": {},
     "output_type": "display_data"
    },
    {
     "data": {
      "application/vnd.jupyter.widget-view+json": {
       "model_id": "",
       "version_major": 2,
       "version_minor": 0
      },
      "text/plain": [
       "loop for K = 5.510204081632653:   0%|          | 0/10 [00:00<?, ?it/s]"
      ]
     },
     "metadata": {},
     "output_type": "display_data"
    },
    {
     "data": {
      "application/vnd.jupyter.widget-view+json": {
       "model_id": "",
       "version_major": 2,
       "version_minor": 0
      },
      "text/plain": [
       "loop for K = 5.714285714285714:   0%|          | 0/10 [00:00<?, ?it/s]"
      ]
     },
     "metadata": {},
     "output_type": "display_data"
    },
    {
     "data": {
      "application/vnd.jupyter.widget-view+json": {
       "model_id": "",
       "version_major": 2,
       "version_minor": 0
      },
      "text/plain": [
       "loop for K = 5.918367346938775:   0%|          | 0/10 [00:00<?, ?it/s]"
      ]
     },
     "metadata": {},
     "output_type": "display_data"
    },
    {
     "data": {
      "application/vnd.jupyter.widget-view+json": {
       "model_id": "",
       "version_major": 2,
       "version_minor": 0
      },
      "text/plain": [
       "loop for K = 6.122448979591837:   0%|          | 0/10 [00:00<?, ?it/s]"
      ]
     },
     "metadata": {},
     "output_type": "display_data"
    },
    {
     "data": {
      "application/vnd.jupyter.widget-view+json": {
       "model_id": "",
       "version_major": 2,
       "version_minor": 0
      },
      "text/plain": [
       "loop for K = 6.326530612244898:   0%|          | 0/10 [00:00<?, ?it/s]"
      ]
     },
     "metadata": {},
     "output_type": "display_data"
    },
    {
     "data": {
      "application/vnd.jupyter.widget-view+json": {
       "model_id": "",
       "version_major": 2,
       "version_minor": 0
      },
      "text/plain": [
       "loop for K = 6.530612244897959:   0%|          | 0/10 [00:00<?, ?it/s]"
      ]
     },
     "metadata": {},
     "output_type": "display_data"
    },
    {
     "data": {
      "application/vnd.jupyter.widget-view+json": {
       "model_id": "",
       "version_major": 2,
       "version_minor": 0
      },
      "text/plain": [
       "loop for K = 6.73469387755102:   0%|          | 0/10 [00:00<?, ?it/s]"
      ]
     },
     "metadata": {},
     "output_type": "display_data"
    },
    {
     "data": {
      "application/vnd.jupyter.widget-view+json": {
       "model_id": "",
       "version_major": 2,
       "version_minor": 0
      },
      "text/plain": [
       "loop for K = 6.938775510204081:   0%|          | 0/10 [00:00<?, ?it/s]"
      ]
     },
     "metadata": {},
     "output_type": "display_data"
    },
    {
     "data": {
      "application/vnd.jupyter.widget-view+json": {
       "model_id": "",
       "version_major": 2,
       "version_minor": 0
      },
      "text/plain": [
       "loop for K = 7.142857142857143:   0%|          | 0/10 [00:00<?, ?it/s]"
      ]
     },
     "metadata": {},
     "output_type": "display_data"
    },
    {
     "data": {
      "application/vnd.jupyter.widget-view+json": {
       "model_id": "",
       "version_major": 2,
       "version_minor": 0
      },
      "text/plain": [
       "loop for K = 7.346938775510204:   0%|          | 0/10 [00:00<?, ?it/s]"
      ]
     },
     "metadata": {},
     "output_type": "display_data"
    },
    {
     "data": {
      "application/vnd.jupyter.widget-view+json": {
       "model_id": "",
       "version_major": 2,
       "version_minor": 0
      },
      "text/plain": [
       "loop for K = 7.551020408163265:   0%|          | 0/10 [00:00<?, ?it/s]"
      ]
     },
     "metadata": {},
     "output_type": "display_data"
    },
    {
     "data": {
      "application/vnd.jupyter.widget-view+json": {
       "model_id": "",
       "version_major": 2,
       "version_minor": 0
      },
      "text/plain": [
       "loop for K = 7.755102040816327:   0%|          | 0/10 [00:00<?, ?it/s]"
      ]
     },
     "metadata": {},
     "output_type": "display_data"
    },
    {
     "data": {
      "application/vnd.jupyter.widget-view+json": {
       "model_id": "",
       "version_major": 2,
       "version_minor": 0
      },
      "text/plain": [
       "loop for K = 7.959183673469388:   0%|          | 0/10 [00:00<?, ?it/s]"
      ]
     },
     "metadata": {},
     "output_type": "display_data"
    },
    {
     "data": {
      "application/vnd.jupyter.widget-view+json": {
       "model_id": "",
       "version_major": 2,
       "version_minor": 0
      },
      "text/plain": [
       "loop for K = 8.16326530612245:   0%|          | 0/10 [00:00<?, ?it/s]"
      ]
     },
     "metadata": {},
     "output_type": "display_data"
    },
    {
     "data": {
      "application/vnd.jupyter.widget-view+json": {
       "model_id": "",
       "version_major": 2,
       "version_minor": 0
      },
      "text/plain": [
       "loop for K = 8.36734693877551:   0%|          | 0/10 [00:00<?, ?it/s]"
      ]
     },
     "metadata": {},
     "output_type": "display_data"
    },
    {
     "data": {
      "application/vnd.jupyter.widget-view+json": {
       "model_id": "",
       "version_major": 2,
       "version_minor": 0
      },
      "text/plain": [
       "loop for K = 8.571428571428571:   0%|          | 0/10 [00:00<?, ?it/s]"
      ]
     },
     "metadata": {},
     "output_type": "display_data"
    },
    {
     "data": {
      "application/vnd.jupyter.widget-view+json": {
       "model_id": "",
       "version_major": 2,
       "version_minor": 0
      },
      "text/plain": [
       "loop for K = 8.775510204081632:   0%|          | 0/10 [00:00<?, ?it/s]"
      ]
     },
     "metadata": {},
     "output_type": "display_data"
    },
    {
     "data": {
      "application/vnd.jupyter.widget-view+json": {
       "model_id": "",
       "version_major": 2,
       "version_minor": 0
      },
      "text/plain": [
       "loop for K = 8.979591836734695:   0%|          | 0/10 [00:00<?, ?it/s]"
      ]
     },
     "metadata": {},
     "output_type": "display_data"
    },
    {
     "data": {
      "application/vnd.jupyter.widget-view+json": {
       "model_id": "",
       "version_major": 2,
       "version_minor": 0
      },
      "text/plain": [
       "loop for K = 9.183673469387756:   0%|          | 0/10 [00:00<?, ?it/s]"
      ]
     },
     "metadata": {},
     "output_type": "display_data"
    },
    {
     "data": {
      "application/vnd.jupyter.widget-view+json": {
       "model_id": "",
       "version_major": 2,
       "version_minor": 0
      },
      "text/plain": [
       "loop for K = 9.387755102040817:   0%|          | 0/10 [00:00<?, ?it/s]"
      ]
     },
     "metadata": {},
     "output_type": "display_data"
    },
    {
     "data": {
      "application/vnd.jupyter.widget-view+json": {
       "model_id": "",
       "version_major": 2,
       "version_minor": 0
      },
      "text/plain": [
       "loop for K = 9.591836734693878:   0%|          | 0/10 [00:00<?, ?it/s]"
      ]
     },
     "metadata": {},
     "output_type": "display_data"
    },
    {
     "data": {
      "application/vnd.jupyter.widget-view+json": {
       "model_id": "",
       "version_major": 2,
       "version_minor": 0
      },
      "text/plain": [
       "loop for K = 9.795918367346939:   0%|          | 0/10 [00:00<?, ?it/s]"
      ]
     },
     "metadata": {},
     "output_type": "display_data"
    },
    {
     "data": {
      "application/vnd.jupyter.widget-view+json": {
       "model_id": "",
       "version_major": 2,
       "version_minor": 0
      },
      "text/plain": [
       "loop for K = 10.0:   0%|          | 0/10 [00:00<?, ?it/s]"
      ]
     },
     "metadata": {},
     "output_type": "display_data"
    }
   ],
   "source": [
    "C_for_CV = np.linspace(0,10,50)\n",
    "err_SVM_CV, C_opt = k_fold_CV_for_SVM(X, Y, C=C_for_CV, k=10)"
   ]
  },
  {
   "cell_type": "code",
   "execution_count": 36,
   "id": "86acf19f",
   "metadata": {},
   "outputs": [
    {
     "name": "stdout",
     "output_type": "stream",
     "text": [
      "C_opt = 0.20408163265306123\n"
     ]
    }
   ],
   "source": [
    "print(f'C_opt = {C_opt}')"
   ]
  },
  {
   "cell_type": "code",
   "execution_count": 37,
   "id": "a173bdcd",
   "metadata": {
    "scrolled": true
   },
   "outputs": [
    {
     "data": {
      "image/png": "[encoded data removed]",
      "text/plain": [
       "<Figure size 720x360 with 1 Axes>"
      ]
     },
     "metadata": {
      "needs_background": "light"
     },
     "output_type": "display_data"
    }
   ],
   "source": [
    "plt.figure(figsize=(10,5))\n",
    "plt.plot(C_for_CV, err_SVM_CV)\n",
    "plt.scatter(C_for_CV[np.argmin(err_SVM_CV)], err_SVM_CV[np.argmin(err_SVM_CV)])\n",
    "plt.ylabel('classification error')\n",
    "plt.xlabel('C')\n",
    "plt.title('k-fold CV for C determination')\n",
    "plt.grid()\n",
    "plt.xticks(C_for_CV[::3]);"
   ]
  },
  {
   "cell_type": "markdown",
   "id": "351cdace",
   "metadata": {},
   "source": [
    "## SVM"
   ]
  },
  {
   "cell_type": "code",
   "execution_count": 38,
   "id": "7c93ba22",
   "metadata": {},
   "outputs": [],
   "source": [
    "def ref_plane(X,Y):\n",
    "    return X**2 -.1*X - .06 - Y/2"
   ]
  },
  {
   "cell_type": "code",
   "execution_count": 39,
   "id": "34e7ca03",
   "metadata": {},
   "outputs": [],
   "source": [
    "no_of_points = 150\n",
    "mixing_level = 0\n",
    "X1 = np.random.random(no_of_points)*3 - 1.5\n",
    "X2 = np.random.random(no_of_points)*3 - 1.5\n",
    "values = ref_plane(X1, X2)\n",
    "values[abs(values)<mixing_level] = values[abs(values)<mixing_level]*np.sign(np.random.normal())\n",
    "classes, class_color = np.where(values>0, 1, -1), np.where(values>0, 'r', 'b')\n",
    "X = np.concatenate([X1[:,np.newaxis], X2[:,np.newaxis]], axis = 1)\n",
    "Y = np.array(classes, dtype=float)"
   ]
  },
  {
   "cell_type": "code",
   "execution_count": 40,
   "id": "09d1435f",
   "metadata": {},
   "outputs": [],
   "source": [
    "sv = np.where(svm_soft_M.alphas>1e-5)[0]"
   ]
  },
  {
   "cell_type": "code",
   "execution_count": 41,
   "id": "2b396944",
   "metadata": {},
   "outputs": [],
   "source": [
    "svm_soft_M = SVM(X, Y[:,np.newaxis], C = 4, kernel='polynomial', d=2)\n",
    "svm_soft_M.train()"
   ]
  },
  {
   "cell_type": "code",
   "execution_count": 42,
   "id": "6bea78d8",
   "metadata": {},
   "outputs": [],
   "source": [
    "# testing data generation\n",
    "no_of_points_test = 100\n",
    "X1_test = np.random.random(no_of_points_test)*3 - 1.5\n",
    "X2_test = np.random.random(no_of_points_test)*3 - 1.5\n",
    "values_test = ref_plane(X1_test, X2_test)\n",
    "classes_test = np.where(values_test>0, 1., -1.)\n",
    "X_test = np.concatenate([X1_test[:,np.newaxis], X2_test[:,np.newaxis]], axis = 1)\n",
    "Y_test = np.array(classes_test, dtype=float)"
   ]
  },
  {
   "cell_type": "code",
   "execution_count": 43,
   "id": "af5d1a22",
   "metadata": {},
   "outputs": [],
   "source": [
    "#svm_soft_M.b"
   ]
  },
  {
   "cell_type": "code",
   "execution_count": 44,
   "id": "ee4af605",
   "metadata": {},
   "outputs": [],
   "source": [
    "SVM_pred = svm_soft_M.predict(X_test)"
   ]
  },
  {
   "cell_type": "code",
   "execution_count": 45,
   "id": "2e37f1d4",
   "metadata": {},
   "outputs": [],
   "source": [
    "#SVM_pred = np.sign(np.sum(svm_soft_M.alphas.flatten()[svm_soft_M.sv] * svm_soft_M.y[svm_soft_M.sv].flatten() * svm_soft_M.polynomial_kernel(X_test, svm_soft_M.X[svm_soft_M.sv]), axis=1))"
   ]
  },
  {
   "cell_type": "code",
   "execution_count": 46,
   "id": "fbddc134",
   "metadata": {},
   "outputs": [
    {
     "name": "stdout",
     "output_type": "stream",
     "text": [
      "+-------------+-----------------------+-----------------------+------+\n",
      "| True status |           No          |          Yes          | Sums |\n",
      "+-------------+-----------------------+-----------------------+------+\n",
      "|  Prediciton |                       |                       |      |\n",
      "|      No     |         TN = 21       |         FN = 1        |  22  |\n",
      "|     Yes     |         FP = 1        |         TP = 77       |  78  |\n",
      "|             | specificity = 95.45 % | sensitivity = 98.72 % |      |\n",
      "|     Sums    |           22          |           78          | 100  |\n",
      "+-------------+-----------------------+-----------------------+------+\n"
     ]
    }
   ],
   "source": [
    "ms.confusion_matrix(SVM_pred, classes_test, classes=[-1,1], print_=True);"
   ]
  },
  {
   "cell_type": "markdown",
   "id": "eee0cf2b",
   "metadata": {},
   "source": [
    "#### Določitev območij razredov"
   ]
  },
  {
   "cell_type": "code",
   "execution_count": 47,
   "id": "3cfb3613",
   "metadata": {},
   "outputs": [],
   "source": [
    "X1_test_vals = np.linspace(-1.5, 1.5, 100)\n",
    "X2_test_vals = np.linspace(-1.5, 1.5, 100)\n",
    "predictions_ = np.zeros((X1_test_vals.shape[0],X2_test_vals.shape[0]))\n",
    "test_set = np.zeros((X1_test_vals.shape[0],X2_test_vals.shape[0],2))\n",
    "for i in range(X1_test_vals.shape[0]):\n",
    "    for j in range(X2_test_vals.shape[0]):\n",
    "        test_set[i,j,:] = np.array((X1_test_vals[i], X2_test_vals[j]))\n",
    "test_set = test_set.reshape((100*100,2))"
   ]
  },
  {
   "cell_type": "code",
   "execution_count": 48,
   "id": "5d7d1f67",
   "metadata": {},
   "outputs": [],
   "source": [
    "grid_vals = svm_soft_M.get_SVM_val(test_set).reshape((100,100))\n",
    "hyperplane_data = np.where((grid_vals<1e-1)&(grid_vals>-1e-1))"
   ]
  },
  {
   "cell_type": "code",
   "execution_count": 49,
   "id": "49f61b83",
   "metadata": {},
   "outputs": [],
   "source": [
    "hyperplane_points = np.zeros((hyperplane_data[0].shape[0]+2,2))\n",
    "for i in range(hyperplane_data[0].shape[0]):\n",
    "    hyperplane_points[i+1,:] = X1_test_vals[hyperplane_data[0][i]],X2_test_vals[hyperplane_data[1][i]]\n",
    "hyperplane_points[0,:] = -1.5, 1.5\n",
    "hyperplane_points[-1,:] = 1.5, 1.5"
   ]
  },
  {
   "cell_type": "code",
   "execution_count": 50,
   "id": "1f20c23d",
   "metadata": {},
   "outputs": [
    {
     "data": {
      "text/plain": [
       "<matplotlib.legend.Legend at 0x1b01ca8db50>"
      ]
     },
     "execution_count": 50,
     "metadata": {},
     "output_type": "execute_result"
    },
    {
     "data": {
      "image/png": "[encoded data removed]",
      "text/plain": [
       "<Figure size 432x288 with 1 Axes>"
      ]
     },
     "metadata": {
      "needs_background": "light"
     },
     "output_type": "display_data"
    }
   ],
   "source": [
    "x_min=-1.5\n",
    "x_max=1.5\n",
    "plt.xlim(x_min,x_max)\n",
    "plt.fill_between((hyperplane_points[:,0]), hyperplane_points[:,1], -1.5, color='blue', alpha=.5)\n",
    "plt.fill_between((hyperplane_points[:,0]), hyperplane_points[:,1], 1.5, color='red', alpha=.5)\n",
    "for i in range(X.shape[0]):\n",
    "    plt.scatter(X[i,0], X[i,1], c=class_color[i])\n",
    "    plt.annotate(i, (X[i,0], X[i,1]))\n",
    "x1_values = np.linspace(-1.5,1.5,100)\n",
    "#hyperplane_X1 = (-1*x1_values*svm_soft_M.w[0]- svm_soft_M.b)/svm_soft_M.w[1]\n",
    "#poz_margin_line = hyperplane_X1 + np.sqrt(1 + (svm_soft_M.w[0]/svm_soft_M.w[1])**2)*svm_soft_M.M\n",
    "#neg_margin_line = hyperplane_X1 - np.sqrt(1 + (svm_soft_M.w[0]/svm_soft_M.w[1])**2)*svm_soft_M.M\n",
    "#plt.plot(x1_values, hyperplane_X1, color='k')\n",
    "#plt.plot(x1_values, poz_margin_line, c='g',ls='--' )\n",
    "#plt.plot(x1_values, neg_margin_line, c='g',ls='--' )\n",
    "plt.scatter(X_test[:,0], X_test[:,1], c='green', label='test points')\n",
    "plt.scatter(X[(svm_soft_M.alphas>1e-3).flatten(), 0], X[(svm_soft_M.alphas>1e-3).flatten(), 1], color='yellow', label='support vectors')\n",
    "plt.legend(loc=(1.01,0))"
   ]
  },
  {
   "cell_type": "code",
   "execution_count": null,
   "id": "56177306",
   "metadata": {},
   "outputs": [],
   "source": []
  }
 ],
 "metadata": {
  "kernelspec": {
   "display_name": "Python 3 (ipykernel)",
   "language": "python",
   "name": "python3"
  },
  "language_info": {
   "codemirror_mode": {
    "name": "ipython",
    "version": 3
   },
   "file_extension": ".py",
   "mimetype": "text/x-python",
   "name": "python",
   "nbconvert_exporter": "python",
   "pygments_lexer": "ipython3",
   "version": "3.9.7"
  }
 },
 "nbformat": 4,
 "nbformat_minor": 5
}
