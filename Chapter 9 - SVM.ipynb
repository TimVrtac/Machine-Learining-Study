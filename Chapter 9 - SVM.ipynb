{
 "cells": [
  {
   "cell_type": "code",
   "execution_count": 1,
   "id": "3d987e8b",
   "metadata": {},
   "outputs": [],
   "source": [
    "import matplotlib.pyplot as plt\n",
    "import numpy as np\n",
    "import pandas as pd\n",
    "import cvxopt # convex optimisation module\n",
    "import SVM\n",
    "import my_statistics as ms"
   ]
  },
  {
   "cell_type": "markdown",
   "id": "f2b36018",
   "metadata": {},
   "source": [
    "### Hyperplane in 2D space"
   ]
  },
  {
   "cell_type": "code",
   "execution_count": 2,
   "id": "df8d324b",
   "metadata": {},
   "outputs": [],
   "source": [
    "X_1, X_2 = np.linspace(-1.5, 1.5, 18), np.linspace(-1.5, 1.5, 18)\n",
    "X_1_=np.einsum('i,ij->ij',X_1,np.ones((len(X_1),len(X_2))))\n",
    "X_2_=np.einsum('j,ij->ij',X_2,np.ones((len(X_2),len(X_1))))\n",
    "values = 1 + 2* X_1_ + 3* X_2_"
   ]
  },
  {
   "cell_type": "code",
   "execution_count": 3,
   "id": "b703811c",
   "metadata": {},
   "outputs": [],
   "source": [
    "X_1_gr, X_2_gr = X_1[np.argwhere(values>0)[:,0]], X_2[np.argwhere(values>0)[:,1]]\n",
    "X_1_le, X_2_le = X_1[np.argwhere(values<0)[:,0]], X_2[np.argwhere(values<0)[:,1]]"
   ]
  },
  {
   "cell_type": "code",
   "execution_count": 4,
   "id": "af2f854c",
   "metadata": {},
   "outputs": [
    {
     "data": {
      "image/png": "[encoded data removed]",
      "text/plain": [
       "<Figure size 432x288 with 1 Axes>"
      ]
     },
     "metadata": {
      "needs_background": "light"
     },
     "output_type": "display_data"
    }
   ],
   "source": [
    "plt.scatter(X_1_gr,X_2_gr, c='r', s=.5, label='>0')\n",
    "plt.scatter(X_1_le,X_2_le, c='b', s=.5, label='<0')\n",
    "plt.plot(X_1, -1/3-2/3*X_1, c='k', label='hyperplane')\n",
    "plt.legend();"
   ]
  },
  {
   "cell_type": "markdown",
   "id": "9c07e174",
   "metadata": {},
   "source": [
    "### Maximal margin classifier"
   ]
  },
  {
   "cell_type": "markdown",
   "id": "402a17f4",
   "metadata": {},
   "source": [
    "#### Determination of Lagrange multipliers $\\alpha_i$ through Quadratic Programming (QP) optimization\n",
    "\n",
    "Expected problem formulation for QP:\n",
    "\\begin{equation}\n",
    "\\min \\frac{1}{2}\\vec{x}^TP\\vec{x} + \\vec{q}^T\\vec{x} ;\\quad A\\vec{x}=b,\\quad G\\vec{x} \\leq h\n",
    "\\end{equation}\n",
    "\n",
    "Our formulation:\n",
    "\\begin{equation}\n",
    "\\min \\frac{1}{2}\\vec{\\alpha}^TH\\vec{\\alpha} - \\vec{1}^T\\vec{\\alpha} ;\\quad y^T\\vec{\\alpha}=0,\\quad -\\alpha_i \\leq 0 \\forall i\n",
    "\\end{equation}"
   ]
  },
  {
   "cell_type": "markdown",
   "id": "56544600",
   "metadata": {},
   "source": [
    "#### Scikit-learn's Iris dataset"
   ]
  },
  {
   "cell_type": "code",
   "execution_count": 5,
   "id": "2221368b",
   "metadata": {},
   "outputs": [
    {
     "data": {
      "text/html": [
       "<div>\n",
       "<style scoped>\n",
       "    .dataframe tbody tr th:only-of-type {\n",
       "        vertical-align: middle;\n",
       "    }\n",
       "\n",
       "    .dataframe tbody tr th {\n",
       "        vertical-align: top;\n",
       "    }\n",
       "\n",
       "    .dataframe thead th {\n",
       "        text-align: right;\n",
       "    }\n",
       "</style>\n",
       "<table border=\"1\" class=\"dataframe\">\n",
       "  <thead>\n",
       "    <tr style=\"text-align: right;\">\n",
       "      <th></th>\n",
       "      <th>petal length (cm)</th>\n",
       "      <th>petal width (cm)</th>\n",
       "      <th>target</th>\n",
       "    </tr>\n",
       "  </thead>\n",
       "  <tbody>\n",
       "    <tr>\n",
       "      <th>0</th>\n",
       "      <td>1.4</td>\n",
       "      <td>0.2</td>\n",
       "      <td>-1.0</td>\n",
       "    </tr>\n",
       "  </tbody>\n",
       "</table>\n",
       "</div>"
      ],
      "text/plain": [
       "   petal length (cm)  petal width (cm)  target\n",
       "0                1.4               0.2    -1.0"
      ]
     },
     "execution_count": 5,
     "metadata": {},
     "output_type": "execute_result"
    }
   ],
   "source": [
    "from sklearn.datasets import load_iris\n",
    "iris = load_iris()\n",
    "iris_df = pd.DataFrame(data= np.c_[iris[\"data\"], iris[\"target\"]], columns= iris[\"feature_names\"] + [\"target\"])\n",
    "# Retain only 2 linearly separable classes\n",
    "iris_df = iris_df[iris_df[\"target\"].isin([0,1])]\n",
    "iris_df[\"target\"] = iris_df[[\"target\"]].replace(0,-1)\n",
    "# Select only 2 attributes\n",
    "iris_df = iris_df[[\"petal length (cm)\", \"petal width (cm)\", \"target\"]]\n",
    "iris_df.head(1)"
   ]
  },
  {
   "cell_type": "code",
   "execution_count": 6,
   "id": "c29dbb65",
   "metadata": {},
   "outputs": [],
   "source": [
    "X = iris_df[[\"petal length (cm)\", \"petal width (cm)\"]].to_numpy()\n",
    "y = iris_df[[\"target\"]].to_numpy()"
   ]
  },
  {
   "cell_type": "code",
   "execution_count": 7,
   "id": "9d385910",
   "metadata": {},
   "outputs": [
    {
     "name": "stdout",
     "output_type": "stream",
     "text": [
      "     pcost       dcost       gap    pres   dres\n",
      " 0: -5.8693e+00 -1.1241e+01  3e+02  1e+01  2e+00\n",
      " 1: -5.9277e+00 -3.6988e+00  4e+01  2e+00  3e-01\n",
      " 2: -1.0647e+00 -1.9434e+00  5e+00  2e-01  2e-02\n",
      " 3: -6.5979e-01 -1.1956e+00  6e-01  6e-03  8e-04\n",
      " 4: -8.3813e-01 -1.2988e+00  5e-01  3e-03  4e-04\n",
      " 5: -1.1588e+00 -1.1784e+00  2e-02  8e-05  1e-05\n",
      " 6: -1.1763e+00 -1.1765e+00  2e-04  8e-07  1e-07\n",
      " 7: -1.1765e+00 -1.1765e+00  2e-06  8e-09  1e-09\n",
      " 8: -1.1765e+00 -1.1765e+00  2e-08  8e-11  1e-11\n",
      "Optimal solution found.\n"
     ]
    }
   ],
   "source": [
    "w, b, M = SVM.SVM(X,y)"
   ]
  },
  {
   "cell_type": "code",
   "execution_count": 8,
   "id": "ddb9c2c6",
   "metadata": {},
   "outputs": [
    {
     "data": {
      "text/plain": [
       "[<matplotlib.lines.Line2D at 0x23f90383bb0>]"
      ]
     },
     "execution_count": 8,
     "metadata": {},
     "output_type": "execute_result"
    },
    {
     "data": {
      "image/png": "[encoded data removed]",
      "text/plain": [
       "<Figure size 360x360 with 1 Axes>"
      ]
     },
     "metadata": {
      "needs_background": "light"
     },
     "output_type": "display_data"
    }
   ],
   "source": [
    "x_min=0\n",
    "x_max=5.5\n",
    "plt.figure(figsize=(5,5))\n",
    "plt.xlim(x_min,x_max)\n",
    "plt.ylim(-.5,2)\n",
    "x1_values = np.linspace(x_min,x_max,100)\n",
    "hyperplane_X1 = (-1*x1_values*w[0]- b)/w[1]\n",
    "poz_margin_line = hyperplane_X1 + np.sqrt(1 + (w[0]/w[1])**2)*M\n",
    "neg_margin_line = hyperplane_X1 - np.sqrt(1 + (w[0]/w[1])**2)*M\n",
    "plt.scatter(X[:, 0], X[:, 1], c=y.ravel(), alpha=0.5, edgecolors=\"black\")\n",
    "plt.plot(x1_values, hyperplane_X1, color='k')\n",
    "plt.plot(x1_values, poz_margin_line, c='g',ls='--' )\n",
    "plt.plot(x1_values, neg_margin_line, c='g',ls='--' )"
   ]
  },
  {
   "cell_type": "markdown",
   "id": "4b7d2576",
   "metadata": {},
   "source": [
    "#### Random data divided into groups on the basis of ref_plane function parameters"
   ]
  },
  {
   "cell_type": "code",
   "execution_count": 9,
   "id": "381e77d6",
   "metadata": {},
   "outputs": [],
   "source": [
    "def ref_plane(X,Y):\n",
    "    return 1 + 2* X + 10* Y"
   ]
  },
  {
   "cell_type": "code",
   "execution_count": 10,
   "id": "2c006812",
   "metadata": {},
   "outputs": [],
   "source": [
    "no_of_points = 50\n",
    "X1 = np.random.random(no_of_points)*3 - 1.5\n",
    "X2 = np.random.random(no_of_points)*3 - 1.5\n",
    "values = ref_plane(X1, X2)\n",
    "classes, class_color = np.where(values>0, 1, -1), np.where(values>0, 'r', 'b')\n",
    "X = np.concatenate([X1[:,np.newaxis], X2[:,np.newaxis]], axis = 1)\n",
    "Y = np.array(classes, dtype=float)"
   ]
  },
  {
   "cell_type": "code",
   "execution_count": 11,
   "id": "c0d9efe6",
   "metadata": {},
   "outputs": [
    {
     "name": "stdout",
     "output_type": "stream",
     "text": [
      "     pcost       dcost       gap    pres   dres\n",
      " 0: -1.1538e+01 -2.5482e+01  1e+02  1e+01  2e+00\n",
      " 1: -2.8412e+01 -3.1565e+01  6e+01  4e+00  9e-01\n",
      " 2: -2.8750e+02 -2.4072e+02  5e+01  4e+00  8e-01\n",
      " 3:  5.5660e+01 -1.4127e+02  2e+02  2e-13  3e-14\n",
      " 4: -7.5537e+01 -1.5320e+02  8e+01  4e-14  3e-14\n",
      " 5: -1.1332e+02 -1.2156e+02  8e+00  1e-14  3e-14\n",
      " 6: -1.1814e+02 -1.1822e+02  9e-02  2e-14  3e-14\n",
      " 7: -1.1819e+02 -1.1819e+02  9e-04  3e-14  3e-14\n",
      " 8: -1.1819e+02 -1.1819e+02  9e-06  2e-14  2e-14\n",
      "Optimal solution found.\n"
     ]
    }
   ],
   "source": [
    "w, b, M = SVM.SVM(X, Y[:,np.newaxis])"
   ]
  },
  {
   "cell_type": "code",
   "execution_count": 12,
   "id": "555f356e",
   "metadata": {},
   "outputs": [
    {
     "data": {
      "text/plain": [
       "(array([ 2.55335125, 15.16111118]), 1.3437813468174382, 0.06504226417939363)"
      ]
     },
     "execution_count": 12,
     "metadata": {},
     "output_type": "execute_result"
    }
   ],
   "source": [
    "w, b, M"
   ]
  },
  {
   "cell_type": "code",
   "execution_count": 13,
   "id": "e96cd90d",
   "metadata": {},
   "outputs": [
    {
     "data": {
      "text/plain": [
       "[<matplotlib.lines.Line2D at 0x23f924ffcd0>]"
      ]
     },
     "execution_count": 13,
     "metadata": {},
     "output_type": "execute_result"
    },
    {
     "data": {
      "image/png": "[encoded data removed]",
      "text/plain": [
       "<Figure size 432x288 with 1 Axes>"
      ]
     },
     "metadata": {
      "needs_background": "light"
     },
     "output_type": "display_data"
    }
   ],
   "source": [
    "x_min=-1.5\n",
    "x_max=1.5\n",
    "plt.xlim(x_min,x_max)\n",
    "for i in range(X.shape[0]):\n",
    "    plt.scatter(X[i,0], X[i,1], c=class_color[i])\n",
    "    plt.annotate(i, (X[i,0], X[i,1]))\n",
    "x1_values = np.linspace(-1.5,1.5,100)\n",
    "hyperplane_X1 = (-1*x1_values*w[0]- b)/w[1]\n",
    "poz_margin_line = hyperplane_X1 + np.sqrt(1 + (w[0]/w[1])**2)*M\n",
    "neg_margin_line = hyperplane_X1 - np.sqrt(1 + (w[0]/w[1])**2)*M\n",
    "plt.plot(x1_values, hyperplane_X1, color='k')\n",
    "plt.plot(x1_values, poz_margin_line, c='g',ls='--' )\n",
    "plt.plot(x1_values, neg_margin_line, c='g',ls='--' )"
   ]
  },
  {
   "cell_type": "code",
   "execution_count": 14,
   "id": "f40f77cd",
   "metadata": {},
   "outputs": [],
   "source": [
    "X_test = np.array([1.5, -0.2])\n",
    "value = SVM.get_SVM_val(X_test, w, b)"
   ]
  },
  {
   "cell_type": "code",
   "execution_count": 15,
   "id": "bb7ad9ec",
   "metadata": {},
   "outputs": [
    {
     "data": {
      "text/plain": [
       "(2.141585991014586, 1)"
      ]
     },
     "execution_count": 15,
     "metadata": {},
     "output_type": "execute_result"
    }
   ],
   "source": [
    "value, SVM.SVM_predict(X_test, w, b)"
   ]
  },
  {
   "cell_type": "markdown",
   "id": "8ceca19d",
   "metadata": {},
   "source": [
    "#### SVM class"
   ]
  },
  {
   "cell_type": "code",
   "execution_count": 16,
   "id": "20c14eef",
   "metadata": {},
   "outputs": [],
   "source": [
    "from SVM_class import SVM"
   ]
  },
  {
   "cell_type": "code",
   "execution_count": 17,
   "id": "038ed2ca",
   "metadata": {},
   "outputs": [],
   "source": [
    "svm_ = SVM(X, Y[:,np.newaxis])"
   ]
  },
  {
   "cell_type": "code",
   "execution_count": 18,
   "id": "6344bb3e",
   "metadata": {},
   "outputs": [
    {
     "name": "stdout",
     "output_type": "stream",
     "text": [
      "     pcost       dcost       gap    pres   dres\n",
      " 0: -1.1538e+01 -2.5482e+01  1e+02  1e+01  2e+00\n",
      " 1: -2.8412e+01 -3.1565e+01  6e+01  4e+00  9e-01\n",
      " 2: -2.8750e+02 -2.4072e+02  5e+01  4e+00  8e-01\n",
      " 3:  5.5660e+01 -1.4127e+02  2e+02  2e-13  3e-14\n",
      " 4: -7.5537e+01 -1.5320e+02  8e+01  4e-14  3e-14\n",
      " 5: -1.1332e+02 -1.2156e+02  8e+00  1e-14  3e-14\n",
      " 6: -1.1814e+02 -1.1822e+02  9e-02  2e-14  3e-14\n",
      " 7: -1.1819e+02 -1.1819e+02  9e-04  3e-14  3e-14\n",
      " 8: -1.1819e+02 -1.1819e+02  9e-06  2e-14  2e-14\n",
      "Optimal solution found.\n"
     ]
    }
   ],
   "source": [
    "# generation of sep. plane param\n",
    "svm_.train()"
   ]
  },
  {
   "cell_type": "code",
   "execution_count": 35,
   "id": "d894e69d",
   "metadata": {},
   "outputs": [],
   "source": [
    "# testing data generation\n",
    "no_of_points_test = 100\n",
    "X1_test = np.random.random(no_of_points_test)*3 - 1.5\n",
    "X2_test = np.random.random(no_of_points_test)*3 - 1.5\n",
    "values_test = ref_plane(X1_test, X2_test)\n",
    "classes_test = np.where(values_test>0, 1., -1.)\n",
    "X_test = np.concatenate([X1_test[:,np.newaxis], X2_test[:,np.newaxis]], axis = 1)\n",
    "Y_test = np.array(classes_test, dtype=float)"
   ]
  },
  {
   "cell_type": "code",
   "execution_count": 36,
   "id": "744a169f",
   "metadata": {},
   "outputs": [],
   "source": [
    "SVM_pred = svm_.predict(X_test)"
   ]
  },
  {
   "cell_type": "code",
   "execution_count": 37,
   "id": "ac7b17c6",
   "metadata": {},
   "outputs": [
    {
     "name": "stdout",
     "output_type": "stream",
     "text": [
      "+-------------+-----------------------+-----------------------+------+\n",
      "| True status |           No          |          Yes          | Sums |\n",
      "+-------------+-----------------------+-----------------------+------+\n",
      "|  Prediciton |                       |                       |      |\n",
      "|      No     |         TN = 42       |         FN = 3        |  45  |\n",
      "|     Yes     |         FP = 1        |         TP = 54       |  55  |\n",
      "|             | specificity = 97.67 % | sensitivity = 94.74 % |      |\n",
      "|     Sums    |           45          |           57          | 100  |\n",
      "+-------------+-----------------------+-----------------------+------+\n"
     ]
    }
   ],
   "source": [
    "ms.confusion_matrix(SVM_pred, classes_test, classes=[-1,1], print_=True);"
   ]
  },
  {
   "cell_type": "code",
   "execution_count": 38,
   "id": "1a664235",
   "metadata": {},
   "outputs": [
    {
     "data": {
      "text/plain": [
       "<matplotlib.collections.PathCollection at 0x23f93dec7c0>"
      ]
     },
     "execution_count": 38,
     "metadata": {},
     "output_type": "execute_result"
    },
    {
     "data": {
      "image/png": "[encoded data removed]",
      "text/plain": [
       "<Figure size 432x288 with 1 Axes>"
      ]
     },
     "metadata": {
      "needs_background": "light"
     },
     "output_type": "display_data"
    }
   ],
   "source": [
    "x_min=-1.5\n",
    "x_max=1.5\n",
    "plt.xlim(x_min,x_max)\n",
    "for i in range(X.shape[0]):\n",
    "    plt.scatter(X[i,0], X[i,1], c=class_color[i])\n",
    "    plt.annotate(i, (X[i,0], X[i,1]))\n",
    "x1_values = np.linspace(-1.5,1.5,100)\n",
    "hyperplane_X1 = (-1*x1_values*w[0]- b)/w[1]\n",
    "poz_margin_line = hyperplane_X1 + np.sqrt(1 + (w[0]/w[1])**2)*M\n",
    "neg_margin_line = hyperplane_X1 - np.sqrt(1 + (w[0]/w[1])**2)*M\n",
    "plt.plot(x1_values, hyperplane_X1, color='k')\n",
    "plt.plot(x1_values, poz_margin_line, c='g',ls='--' )\n",
    "plt.plot(x1_values, neg_margin_line, c='g',ls='--' )\n",
    "plt.scatter(X_test[:,0], X_test[:,1], c='green')"
   ]
  },
  {
   "cell_type": "markdown",
   "id": "efece7a3",
   "metadata": {},
   "source": [
    "### SVM with Scikit-learn"
   ]
  },
  {
   "cell_type": "code",
   "execution_count": null,
   "id": "a71bbd5b",
   "metadata": {},
   "outputs": [],
   "source": [
    "from sklearn import svm"
   ]
  },
  {
   "cell_type": "code",
   "execution_count": null,
   "id": "b439f8b1",
   "metadata": {},
   "outputs": [],
   "source": [
    "svm_cl = svm.SVC(kernel='linear')"
   ]
  },
  {
   "cell_type": "code",
   "execution_count": null,
   "id": "8271bafc",
   "metadata": {},
   "outputs": [],
   "source": [
    "svm_cl.fit(X[1::2], Y[1::2]);"
   ]
  },
  {
   "cell_type": "code",
   "execution_count": null,
   "id": "e4c98200",
   "metadata": {},
   "outputs": [],
   "source": [
    "Y_pred = svm_cl.predict(X[::2])"
   ]
  },
  {
   "cell_type": "code",
   "execution_count": null,
   "id": "16532ab2",
   "metadata": {},
   "outputs": [],
   "source": [
    "Y_pred_color = np.where(Y_pred==1, 'r', 'b')"
   ]
  },
  {
   "cell_type": "code",
   "execution_count": null,
   "id": "aab5077e",
   "metadata": {},
   "outputs": [],
   "source": []
  }
 ],
 "metadata": {
  "kernelspec": {
   "display_name": "Python 3 (ipykernel)",
   "language": "python",
   "name": "python3"
  },
  "language_info": {
   "codemirror_mode": {
    "name": "ipython",
    "version": 3
   },
   "file_extension": ".py",
   "mimetype": "text/x-python",
   "name": "python",
   "nbconvert_exporter": "python",
   "pygments_lexer": "ipython3",
   "version": "3.9.7"
  }
 },
 "nbformat": 4,
 "nbformat_minor": 5
}
